{
 "cells": [
  {
   "cell_type": "code",
   "execution_count": 2,
   "metadata": {
    "collapsed": false
   },
   "outputs": [
    {
     "name": "stdout",
     "output_type": "stream",
     "text": [
      "file size 1023488 bytes\n"
     ]
    }
   ],
   "source": [
    "# fetch the data off the ONS website\n",
    "# got from https://www.ons.gov.uk/businessindustryandtrade/constructionindustry/datasets/outputintheconstructionindustry/current\n",
    "import urllib.request\n",
    "\n",
    "furl = \"https://www.ons.gov.uk/file?uri=/businessindustryandtrade\"+\\\n",
    "       \"/constructionindustry/datasets/outputintheconstructionindustry\"+\\\n",
    "       \"/current/previous/v26/constructionoutputmay2017correction.xls\"\n",
    "        \n",
    "req = urllib.request.Request(furl, headers={'User-Agent' : \"Sensible code\"}) \n",
    "xp = urllib.request.urlopen(req).read()\n",
    "fout = open(\"constructiondata.xls\", \"wb\")\n",
    "fout.write(xp)\n",
    "fout.close()\n",
    "print(\"file size\", len(xp), \"bytes\")"
   ]
  },
  {
   "cell_type": "code",
   "execution_count": 207,
   "metadata": {
    "collapsed": false
   },
   "outputs": [
    {
     "name": "stdout",
     "output_type": "stream",
     "text": [
      "Loading constructiondata.xls which has size 1023488 bytes\n",
      "Table names: ['Correction Notice', 'Cover Sheet', 'Contents', 'Table 1a', 'Table 1b', 'Table 2a', 'Table 2b', 'Table 3a', 'Table 3b', 'Table 3c', 'Table 3d', 'Table 4', 'Table 4a', 'Table 5', 'Table 6', 'Table 7a', 'Table 7b', 'Table 9a', 'Table 10', 'Table 11', 'Table 12', 'Table 13', 'Table 14']\n",
      "Table 2b\n"
     ]
    }
   ],
   "source": [
    "from databaker.framework import *\n",
    "# (loads messytables loads pdf.py and raises an exception because pdf.get_tables does not exist, but who cares?)\n",
    "tabs = loadxlstabs(\"constructiondata.xls\")\n",
    "tab = tabs[6]\n",
    "print(tab.name)\n"
   ]
  },
  {
   "cell_type": "code",
   "execution_count": 211,
   "metadata": {
    "collapsed": false
   },
   "outputs": [
    {
     "name": "stdout",
     "output_type": "stream",
     "text": [
      "tablepart 'Table 2b' written #injblock1007\n"
     ]
    },
    {
     "data": {
      "text/html": [
       "Written to file: <a href='preview.html' target='_blank'>preview.html</a><br>"
      ],
      "text/plain": [
       "/home/goatchurch/sensiblecode/royalstats/preview.html"
      ]
     },
     "metadata": {},
     "output_type": "display_data"
    }
   ],
   "source": [
    "tab = tabs[6]\n",
    "jan = tab.filter(\"Jan\")\n",
    "jan = jan.by_index(1)\n",
    "pubhousing = jan.shift(RIGHT).expand(DOWN)\n",
    "prihousing = pubhousing.shift(RIGHT)\n",
    "\n",
    "month = pubhousing.shift(LEFT)\n",
    "year = month.shift(LEFT)\n",
    "savepreviewhtml([pubhousing, prihousing, month, year], \"preview.html\")\n",
    "\n"
   ]
  },
  {
   "cell_type": "code",
   "execution_count": 226,
   "metadata": {
    "collapsed": false,
    "scrolled": true
   },
   "outputs": [
    {
     "data": {
      "text/html": [
       "<div>\n",
       "<table border=\"1\" class=\"dataframe\">\n",
       "  <thead>\n",
       "    <tr style=\"text-align: right;\">\n",
       "      <th></th>\n",
       "      <th>pri</th>\n",
       "      <th>pub</th>\n",
       "    </tr>\n",
       "  </thead>\n",
       "  <tbody>\n",
       "    <tr>\n",
       "      <th>2010-01-01</th>\n",
       "      <td>851.0</td>\n",
       "      <td>260.0</td>\n",
       "    </tr>\n",
       "    <tr>\n",
       "      <th>2010-02-01</th>\n",
       "      <td>1040.0</td>\n",
       "      <td>366.0</td>\n",
       "    </tr>\n",
       "    <tr>\n",
       "      <th>2010-03-01</th>\n",
       "      <td>1255.0</td>\n",
       "      <td>392.0</td>\n",
       "    </tr>\n",
       "    <tr>\n",
       "      <th>2010-04-01</th>\n",
       "      <td>1255.0</td>\n",
       "      <td>377.0</td>\n",
       "    </tr>\n",
       "    <tr>\n",
       "      <th>2010-05-01</th>\n",
       "      <td>1297.0</td>\n",
       "      <td>396.0</td>\n",
       "    </tr>\n",
       "    <tr>\n",
       "      <th>2010-06-01</th>\n",
       "      <td>1394.0</td>\n",
       "      <td>410.0</td>\n",
       "    </tr>\n",
       "    <tr>\n",
       "      <th>2010-07-01</th>\n",
       "      <td>1344.0</td>\n",
       "      <td>412.0</td>\n",
       "    </tr>\n",
       "    <tr>\n",
       "      <th>2010-08-01</th>\n",
       "      <td>1367.0</td>\n",
       "      <td>433.0</td>\n",
       "    </tr>\n",
       "    <tr>\n",
       "      <th>2010-09-01</th>\n",
       "      <td>1429.0</td>\n",
       "      <td>427.0</td>\n",
       "    </tr>\n",
       "    <tr>\n",
       "      <th>2010-10-01</th>\n",
       "      <td>1492.0</td>\n",
       "      <td>437.0</td>\n",
       "    </tr>\n",
       "    <tr>\n",
       "      <th>2010-11-01</th>\n",
       "      <td>1447.0</td>\n",
       "      <td>439.0</td>\n",
       "    </tr>\n",
       "    <tr>\n",
       "      <th>2010-12-01</th>\n",
       "      <td>1205.0</td>\n",
       "      <td>372.0</td>\n",
       "    </tr>\n",
       "    <tr>\n",
       "      <th>2011-01-01</th>\n",
       "      <td>1113.0</td>\n",
       "      <td>363.0</td>\n",
       "    </tr>\n",
       "    <tr>\n",
       "      <th>2011-02-01</th>\n",
       "      <td>1222.0</td>\n",
       "      <td>394.0</td>\n",
       "    </tr>\n",
       "    <tr>\n",
       "      <th>2011-03-01</th>\n",
       "      <td>1445.0</td>\n",
       "      <td>457.0</td>\n",
       "    </tr>\n",
       "    <tr>\n",
       "      <th>2011-04-01</th>\n",
       "      <td>1330.0</td>\n",
       "      <td>407.0</td>\n",
       "    </tr>\n",
       "    <tr>\n",
       "      <th>2011-05-01</th>\n",
       "      <td>1416.0</td>\n",
       "      <td>426.0</td>\n",
       "    </tr>\n",
       "    <tr>\n",
       "      <th>2011-06-01</th>\n",
       "      <td>1634.0</td>\n",
       "      <td>445.0</td>\n",
       "    </tr>\n",
       "    <tr>\n",
       "      <th>2011-07-01</th>\n",
       "      <td>1479.0</td>\n",
       "      <td>376.0</td>\n",
       "    </tr>\n",
       "    <tr>\n",
       "      <th>2011-08-01</th>\n",
       "      <td>1439.0</td>\n",
       "      <td>387.0</td>\n",
       "    </tr>\n",
       "    <tr>\n",
       "      <th>2011-09-01</th>\n",
       "      <td>1439.0</td>\n",
       "      <td>426.0</td>\n",
       "    </tr>\n",
       "    <tr>\n",
       "      <th>2011-10-01</th>\n",
       "      <td>1464.0</td>\n",
       "      <td>394.0</td>\n",
       "    </tr>\n",
       "    <tr>\n",
       "      <th>2011-11-01</th>\n",
       "      <td>1464.0</td>\n",
       "      <td>403.0</td>\n",
       "    </tr>\n",
       "    <tr>\n",
       "      <th>2011-12-01</th>\n",
       "      <td>1323.0</td>\n",
       "      <td>345.0</td>\n",
       "    </tr>\n",
       "    <tr>\n",
       "      <th>2012-01-01</th>\n",
       "      <td>1198.0</td>\n",
       "      <td>334.0</td>\n",
       "    </tr>\n",
       "    <tr>\n",
       "      <th>2012-02-01</th>\n",
       "      <td>1284.0</td>\n",
       "      <td>322.0</td>\n",
       "    </tr>\n",
       "    <tr>\n",
       "      <th>2012-03-01</th>\n",
       "      <td>1507.0</td>\n",
       "      <td>355.0</td>\n",
       "    </tr>\n",
       "    <tr>\n",
       "      <th>2012-04-01</th>\n",
       "      <td>1332.0</td>\n",
       "      <td>342.0</td>\n",
       "    </tr>\n",
       "    <tr>\n",
       "      <th>2012-05-01</th>\n",
       "      <td>1411.0</td>\n",
       "      <td>327.0</td>\n",
       "    </tr>\n",
       "    <tr>\n",
       "      <th>2012-06-01</th>\n",
       "      <td>1454.0</td>\n",
       "      <td>343.0</td>\n",
       "    </tr>\n",
       "    <tr>\n",
       "      <th>...</th>\n",
       "      <td>...</td>\n",
       "      <td>...</td>\n",
       "    </tr>\n",
       "    <tr>\n",
       "      <th>2014-12-01</th>\n",
       "      <td>1833.0</td>\n",
       "      <td>458.0</td>\n",
       "    </tr>\n",
       "    <tr>\n",
       "      <th>2015-01-01</th>\n",
       "      <td>1684.0</td>\n",
       "      <td>377.0</td>\n",
       "    </tr>\n",
       "    <tr>\n",
       "      <th>2015-02-01</th>\n",
       "      <td>1723.0</td>\n",
       "      <td>419.0</td>\n",
       "    </tr>\n",
       "    <tr>\n",
       "      <th>2015-03-01</th>\n",
       "      <td>1991.0</td>\n",
       "      <td>455.0</td>\n",
       "    </tr>\n",
       "    <tr>\n",
       "      <th>2015-04-01</th>\n",
       "      <td>2083.0</td>\n",
       "      <td>442.0</td>\n",
       "    </tr>\n",
       "    <tr>\n",
       "      <th>2015-05-01</th>\n",
       "      <td>2068.0</td>\n",
       "      <td>405.0</td>\n",
       "    </tr>\n",
       "    <tr>\n",
       "      <th>2015-06-01</th>\n",
       "      <td>2223.0</td>\n",
       "      <td>444.0</td>\n",
       "    </tr>\n",
       "    <tr>\n",
       "      <th>2015-07-01</th>\n",
       "      <td>2066.0</td>\n",
       "      <td>363.0</td>\n",
       "    </tr>\n",
       "    <tr>\n",
       "      <th>2015-08-01</th>\n",
       "      <td>1897.0</td>\n",
       "      <td>331.0</td>\n",
       "    </tr>\n",
       "    <tr>\n",
       "      <th>2015-09-01</th>\n",
       "      <td>2016.0</td>\n",
       "      <td>356.0</td>\n",
       "    </tr>\n",
       "    <tr>\n",
       "      <th>2015-10-01</th>\n",
       "      <td>2189.0</td>\n",
       "      <td>351.0</td>\n",
       "    </tr>\n",
       "    <tr>\n",
       "      <th>2015-11-01</th>\n",
       "      <td>2062.0</td>\n",
       "      <td>341.0</td>\n",
       "    </tr>\n",
       "    <tr>\n",
       "      <th>2015-12-01</th>\n",
       "      <td>2067.0</td>\n",
       "      <td>342.0</td>\n",
       "    </tr>\n",
       "    <tr>\n",
       "      <th>2016-01-01</th>\n",
       "      <td>1776.0</td>\n",
       "      <td>305.0</td>\n",
       "    </tr>\n",
       "    <tr>\n",
       "      <th>2016-02-01</th>\n",
       "      <td>2036.0</td>\n",
       "      <td>314.0</td>\n",
       "    </tr>\n",
       "    <tr>\n",
       "      <th>2016-03-01</th>\n",
       "      <td>2295.0</td>\n",
       "      <td>385.0</td>\n",
       "    </tr>\n",
       "    <tr>\n",
       "      <th>2016-04-01</th>\n",
       "      <td>2298.0</td>\n",
       "      <td>326.0</td>\n",
       "    </tr>\n",
       "    <tr>\n",
       "      <th>2016-05-01</th>\n",
       "      <td>2268.0</td>\n",
       "      <td>353.0</td>\n",
       "    </tr>\n",
       "    <tr>\n",
       "      <th>2016-06-01</th>\n",
       "      <td>2469.0</td>\n",
       "      <td>419.0</td>\n",
       "    </tr>\n",
       "    <tr>\n",
       "      <th>2016-07-01</th>\n",
       "      <td>2279.0</td>\n",
       "      <td>355.0</td>\n",
       "    </tr>\n",
       "    <tr>\n",
       "      <th>2016-08-01</th>\n",
       "      <td>2250.0</td>\n",
       "      <td>353.0</td>\n",
       "    </tr>\n",
       "    <tr>\n",
       "      <th>2016-09-01</th>\n",
       "      <td>2323.0</td>\n",
       "      <td>376.0</td>\n",
       "    </tr>\n",
       "    <tr>\n",
       "      <th>2016-10-01</th>\n",
       "      <td>2404.0</td>\n",
       "      <td>367.0</td>\n",
       "    </tr>\n",
       "    <tr>\n",
       "      <th>2016-11-01</th>\n",
       "      <td>2399.0</td>\n",
       "      <td>370.0</td>\n",
       "    </tr>\n",
       "    <tr>\n",
       "      <th>2016-12-01</th>\n",
       "      <td>2236.0</td>\n",
       "      <td>374.0</td>\n",
       "    </tr>\n",
       "    <tr>\n",
       "      <th>2017-01-01</th>\n",
       "      <td>1954.0</td>\n",
       "      <td>305.0</td>\n",
       "    </tr>\n",
       "    <tr>\n",
       "      <th>2017-02-01</th>\n",
       "      <td>2033.0</td>\n",
       "      <td>344.0</td>\n",
       "    </tr>\n",
       "    <tr>\n",
       "      <th>2017-03-01</th>\n",
       "      <td>2471.0</td>\n",
       "      <td>431.0</td>\n",
       "    </tr>\n",
       "    <tr>\n",
       "      <th>2017-04-01</th>\n",
       "      <td>2224.0</td>\n",
       "      <td>365.0</td>\n",
       "    </tr>\n",
       "    <tr>\n",
       "      <th>2017-05-01</th>\n",
       "      <td>2308.0</td>\n",
       "      <td>414.0</td>\n",
       "    </tr>\n",
       "  </tbody>\n",
       "</table>\n",
       "<p>89 rows × 2 columns</p>\n",
       "</div>"
      ],
      "text/plain": [
       "               pri    pub\n",
       "2010-01-01   851.0  260.0\n",
       "2010-02-01  1040.0  366.0\n",
       "2010-03-01  1255.0  392.0\n",
       "2010-04-01  1255.0  377.0\n",
       "2010-05-01  1297.0  396.0\n",
       "2010-06-01  1394.0  410.0\n",
       "2010-07-01  1344.0  412.0\n",
       "2010-08-01  1367.0  433.0\n",
       "2010-09-01  1429.0  427.0\n",
       "2010-10-01  1492.0  437.0\n",
       "2010-11-01  1447.0  439.0\n",
       "2010-12-01  1205.0  372.0\n",
       "2011-01-01  1113.0  363.0\n",
       "2011-02-01  1222.0  394.0\n",
       "2011-03-01  1445.0  457.0\n",
       "2011-04-01  1330.0  407.0\n",
       "2011-05-01  1416.0  426.0\n",
       "2011-06-01  1634.0  445.0\n",
       "2011-07-01  1479.0  376.0\n",
       "2011-08-01  1439.0  387.0\n",
       "2011-09-01  1439.0  426.0\n",
       "2011-10-01  1464.0  394.0\n",
       "2011-11-01  1464.0  403.0\n",
       "2011-12-01  1323.0  345.0\n",
       "2012-01-01  1198.0  334.0\n",
       "2012-02-01  1284.0  322.0\n",
       "2012-03-01  1507.0  355.0\n",
       "2012-04-01  1332.0  342.0\n",
       "2012-05-01  1411.0  327.0\n",
       "2012-06-01  1454.0  343.0\n",
       "...            ...    ...\n",
       "2014-12-01  1833.0  458.0\n",
       "2015-01-01  1684.0  377.0\n",
       "2015-02-01  1723.0  419.0\n",
       "2015-03-01  1991.0  455.0\n",
       "2015-04-01  2083.0  442.0\n",
       "2015-05-01  2068.0  405.0\n",
       "2015-06-01  2223.0  444.0\n",
       "2015-07-01  2066.0  363.0\n",
       "2015-08-01  1897.0  331.0\n",
       "2015-09-01  2016.0  356.0\n",
       "2015-10-01  2189.0  351.0\n",
       "2015-11-01  2062.0  341.0\n",
       "2015-12-01  2067.0  342.0\n",
       "2016-01-01  1776.0  305.0\n",
       "2016-02-01  2036.0  314.0\n",
       "2016-03-01  2295.0  385.0\n",
       "2016-04-01  2298.0  326.0\n",
       "2016-05-01  2268.0  353.0\n",
       "2016-06-01  2469.0  419.0\n",
       "2016-07-01  2279.0  355.0\n",
       "2016-08-01  2250.0  353.0\n",
       "2016-09-01  2323.0  376.0\n",
       "2016-10-01  2404.0  367.0\n",
       "2016-11-01  2399.0  370.0\n",
       "2016-12-01  2236.0  374.0\n",
       "2017-01-01  1954.0  305.0\n",
       "2017-02-01  2033.0  344.0\n",
       "2017-03-01  2471.0  431.0\n",
       "2017-04-01  2224.0  365.0\n",
       "2017-05-01  2308.0  414.0\n",
       "\n",
       "[89 rows x 2 columns]"
      ]
     },
     "execution_count": 226,
     "metadata": {},
     "output_type": "execute_result"
    }
   ],
   "source": [
    "vpubhousing = [k.value  for k in pubhousing]\n",
    "vprihousing = [k.value  for k in prihousing]\n",
    "\n",
    "\n",
    "month = pubhousing.shift(LEFT)\n",
    "year = month.shift(LEFT)\n",
    "monthdates = [ ]\n",
    "for m, y in zip(month, year):\n",
    "    monthdates.append(m.value.strip()+\" \"+(str(y.value)[:4] if y.value else monthdates[-1][-4:]))\n",
    "\n",
    "datecol = pandas.to_datetime(monthdates)\n",
    "pandas.DataFrame([vpubhousing, vprihousing])\n",
    "d = pandas.DataFrame({\"pub\":vpubhousing, \"pri\":vprihousing})\n",
    "d = d.set_index(datecol)\n",
    "\n"
   ]
  },
  {
   "cell_type": "code",
   "execution_count": 21,
   "metadata": {
    "collapsed": false
   },
   "outputs": [
    {
     "data": {
      "text/plain": [
       "<matplotlib.legend.Legend at 0x7f30745bed68>"
      ]
     },
     "execution_count": 21,
     "metadata": {},
     "output_type": "execute_result"
    },
    {
     "data": {
      "image/png": "[encoded data removed]",
      "text/plain": [
       "<matplotlib.figure.Figure at 0x7f306ddca2b0>"
      ]
     },
     "metadata": {},
     "output_type": "display_data"
    }
   ],
   "source": [
    "from matplotlib import pyplot as plt\n",
    "%matplotlib inline\n",
    "\n",
    "plt.plot(vpubhousing, label=\"pub\")\n",
    "plt.plot(vprihousing, label=\"pri\")\n",
    "plt.legend()"
   ]
  },
  {
   "cell_type": "code",
   "execution_count": 228,
   "metadata": {
    "collapsed": false
   },
   "outputs": [
    {
     "name": "stdout",
     "output_type": "stream",
     "text": [
      "Help on function tmean in module scipy.stats.stats:\n",
      "\n",
      "tmean(a, limits=None, inclusive=(True, True), axis=None)\n",
      "    Compute the trimmed mean.\n",
      "    \n",
      "    This function finds the arithmetic mean of given values, ignoring values\n",
      "    outside the given `limits`.\n",
      "    \n",
      "    Parameters\n",
      "    ----------\n",
      "    a : array_like\n",
      "        Array of values.\n",
      "    limits : None or (lower limit, upper limit), optional\n",
      "        Values in the input array less than the lower limit or greater than the\n",
      "        upper limit will be ignored.  When limits is None (default), then all\n",
      "        values are used.  Either of the limit values in the tuple can also be\n",
      "        None representing a half-open interval.\n",
      "    inclusive : (bool, bool), optional\n",
      "        A tuple consisting of the (lower flag, upper flag).  These flags\n",
      "        determine whether values exactly equal to the lower or upper limits\n",
      "        are included.  The default value is (True, True).\n",
      "    axis : int or None, optional\n",
      "        Axis along which to compute test. Default is None.\n",
      "    \n",
      "    Returns\n",
      "    -------\n",
      "    tmean : float\n",
      "    \n",
      "    See also\n",
      "    --------\n",
      "    trim_mean : returns mean after trimming a proportion from both tails.\n",
      "    \n",
      "    Examples\n",
      "    --------\n",
      "    >>> from scipy import stats\n",
      "    >>> x = np.arange(20)\n",
      "    >>> stats.tmean(x)\n",
      "    9.5\n",
      "    >>> stats.tmean(x, (3,17))\n",
      "    10.0\n",
      "\n"
     ]
    }
   ],
   "source": [
    "help(scipy.stats.stats.tmean)"
   ]
  },
  {
   "cell_type": "code",
   "execution_count": 227,
   "metadata": {
    "collapsed": false
   },
   "outputs": [
    {
     "data": {
      "text/plain": [
       "(393.90148220247596, 393.90148220247596)"
      ]
     },
     "execution_count": 227,
     "metadata": {},
     "output_type": "execute_result"
    }
   ],
   "source": [
    "# check we know how to do the mean and standard deviation of a set of numbers\n",
    "import math\n",
    "v = vprihousing\n",
    "scipy.stats.stats.tstd(v)\n",
    "m = scipy.stats.stats.tmean(v)\n",
    "s = scipy.stats.stats.tstd(v)\n",
    "sum(v)/len(v), m\n",
    "\n",
    "math.sqrt(sum([(k-m)**2  for k in v])/(len(v)-1)), s"
   ]
  },
  {
   "cell_type": "code",
   "execution_count": 232,
   "metadata": {
    "collapsed": false
   },
   "outputs": [
    {
     "data": {
      "text/plain": [
       "(array([ 1,  3, 13, 22, 10,  6,  5, 14, 10,  5]),\n",
       " array([  851.,  1013.,  1175.,  1337.,  1499.,  1661.,  1823.,  1985.,\n",
       "         2147.,  2309.,  2471.]))"
      ]
     },
     "execution_count": 232,
     "metadata": {},
     "output_type": "execute_result"
    }
   ],
   "source": [
    "import numpy as np\n",
    "#help(np.histogram)\n",
    "np.histogram(v)"
   ]
  },
  {
   "cell_type": "code",
   "execution_count": 235,
   "metadata": {
    "collapsed": false,
    "scrolled": true
   },
   "outputs": [
    {
     "data": {
      "text/plain": [
       "array([[<matplotlib.axes._subplots.AxesSubplot object at 0x7f3053081240>]], dtype=object)"
      ]
     },
     "execution_count": 235,
     "metadata": {},
     "output_type": "execute_result"
    },
    {
     "data": {
      "image/png": "[encoded data removed]",
      "text/plain": [
       "<matplotlib.figure.Figure at 0x7f3058336908>"
      ]
     },
     "metadata": {},
     "output_type": "display_data"
    }
   ],
   "source": [
    "# check if we know how to plot a histogram\n",
    "# deprecated shows how it's closed down\n",
    "#help(scipy.stats.histogram2)\n",
    "#plt.plot(scipy.stats.histogram(v))\n",
    "import numpy\n",
    "a, b = numpy.histogram(v)\n",
    "#plt.bar(b[:-1], a, width=100)\n",
    "\n",
    "import pandas as pd\n",
    "pd.DataFrame(v).hist()"
   ]
  },
  {
   "cell_type": "code",
   "execution_count": 238,
   "metadata": {
    "collapsed": false
   },
   "outputs": [
    {
     "data": {
      "text/plain": [
       "[<matplotlib.lines.Line2D at 0x7f3052f0fbe0>]"
      ]
     },
     "execution_count": 238,
     "metadata": {},
     "output_type": "execute_result"
    },
    {
     "data": {
      "image/png": "[encoded data removed]",
      "text/plain": [
       "<matplotlib.figure.Figure at 0x7f3052f0f518>"
      ]
     },
     "metadata": {},
     "output_type": "display_data"
    }
   ],
   "source": [
    "# now look at autocorrelation plot shifted by 12\n",
    "plt.plot(vprihousing)\n",
    "plt.plot(vprihousing[6:])\n"
   ]
  },
  {
   "cell_type": "code",
   "execution_count": 239,
   "metadata": {
    "collapsed": false
   },
   "outputs": [
    {
     "data": {
      "text/plain": [
       "[<matplotlib.lines.Line2D at 0x7f3052dace80>]"
      ]
     },
     "execution_count": 239,
     "metadata": {},
     "output_type": "execute_result"
    },
    {
     "data": {
      "image/png": "[encoded data removed]",
      "text/plain": [
       "<matplotlib.figure.Figure at 0x7f3052ddee48>"
      ]
     },
     "metadata": {},
     "output_type": "display_data"
    }
   ],
   "source": [
    "# demonstrate autocorrelation measure\n",
    "import random, math\n",
    "#v = [random.gauss(0,1) + 1*math.sin(math.radians(i/12*360))  for i in range(100)]\n",
    "s = [ sum(x*y  for x, y in zip(v[a:], v))/(len(v)-a)  for a in range(20) ]\n",
    "plt.plot(s)\n"
   ]
  },
  {
   "cell_type": "code",
   "execution_count": 246,
   "metadata": {
    "collapsed": false,
    "scrolled": true
   },
   "outputs": [
    {
     "data": {
      "text/plain": [
       "NormaltestResult(statistic=14.279820971307094, pvalue=0.00079282306232846781)"
      ]
     },
     "execution_count": 246,
     "metadata": {},
     "output_type": "execute_result"
    },
    {
     "data": {
      "image/png": "[encoded data removed]",
      "text/plain": [
       "<matplotlib.figure.Figure at 0x7f3052c904e0>"
      ]
     },
     "metadata": {},
     "output_type": "display_data"
    }
   ],
   "source": [
    "# autocorrelation using the ratio change between values\n",
    "v = [a/b  for a, b in zip(vprihousing[1:], vprihousing)]\n",
    "#plt.plot(v)\n",
    "s = [ sum(x*y  for x, y in zip(v[a:], v))/(len(v)-a)  for a in range(20) ]\n",
    "plt.plot(s)\n",
    "scipy.stats.normaltest(vprihousing, nan_policy='omit')\n"
   ]
  },
  {
   "cell_type": "code",
   "execution_count": 297,
   "metadata": {
    "collapsed": false
   },
   "outputs": [
    {
     "data": {
      "text/plain": [
       "[<matplotlib.lines.Line2D at 0x7f305143bf98>]"
      ]
     },
     "execution_count": 297,
     "metadata": {},
     "output_type": "execute_result"
    },
    {
     "data": {
      "image/png": "[encoded data removed]",
      "text/plain": [
       "<matplotlib.figure.Figure at 0x7f305152cf60>"
      ]
     },
     "metadata": {},
     "output_type": "display_data"
    }
   ],
   "source": [
    "ps.sort()\n",
    "plt.plot(ps)"
   ]
  },
  {
   "cell_type": "code",
   "execution_count": 296,
   "metadata": {
    "collapsed": false
   },
   "outputs": [
    {
     "data": {
      "text/plain": [
       "array([[<matplotlib.axes._subplots.AxesSubplot object at 0x7f305150a7f0>]], dtype=object)"
      ]
     },
     "execution_count": 296,
     "metadata": {},
     "output_type": "execute_result"
    },
    {
     "data": {
      "image/png": "[encoded data removed]",
      "text/plain": [
       "<matplotlib.figure.Figure at 0x7f305150a080>"
      ]
     },
     "metadata": {},
     "output_type": "display_data"
    }
   ],
   "source": [
    "import random\n",
    "ps = [ ]\n",
    "for j in range(1000):\n",
    "    s = [ random.gauss(5,10)  for i in range(len(vprihousing)) ]\n",
    "    q = scipy.stats.normaltest(s, nan_policy='omit')\n",
    "    ps.append(q.pvalue)\n",
    "pd.DataFrame(ps).hist()"
   ]
  },
  {
   "cell_type": "code",
   "execution_count": 311,
   "metadata": {
    "collapsed": false
   },
   "outputs": [
    {
     "name": "stdout",
     "output_type": "stream",
     "text": [
      "Help on module statsmodels.tsa.arima_process in statsmodels.tsa:\n",
      "\n",
      "NAME\n",
      "    statsmodels.tsa.arima_process - ARMA process and estimation with scipy.signal.lfilter\n",
      "\n",
      "DESCRIPTION\n",
      "    2009-09-06: copied from try_signal.py\n",
      "        reparameterized same as signal.lfilter (positive coefficients)\n",
      "    \n",
      "    \n",
      "    Notes\n",
      "    -----\n",
      "    * pretty fast\n",
      "    * checked with Monte Carlo and cross comparison with statsmodels yule_walker\n",
      "      for AR numbers are close but not identical to yule_walker\n",
      "      not compared to other statistics packages, no degrees of freedom correction\n",
      "    * ARMA(2,2) estimation (in Monte Carlo) requires longer time series to estimate parameters\n",
      "      without large variance. There might be different ARMA parameters\n",
      "      with similar impulse response function that cannot be well\n",
      "      distinguished with small samples (e.g. 100 observations)\n",
      "    * good for one time calculations for entire time series, not for recursive\n",
      "      prediction\n",
      "    * class structure not very clean yet\n",
      "    * many one-liners with scipy.signal, but takes time to figure out usage\n",
      "    * missing result statistics, e.g. t-values, but standard errors in examples\n",
      "    * no criteria for choice of number of lags\n",
      "    * no constant term in ARMA process\n",
      "    * no integration, differencing for ARIMA\n",
      "    * written without textbook, works but not sure about everything\n",
      "      briefly checked and it looks to be standard least squares, see below\n",
      "    \n",
      "    * theoretical autocorrelation function of general ARMA\n",
      "      Done, relatively easy to guess solution, time consuming to get\n",
      "      theoretical test cases,\n",
      "      example file contains explicit formulas for acovf of MA(1), MA(2) and ARMA(1,1)\n",
      "    \n",
      "    * two names for lag polynomials ar = rhoy, ma = rhoe ?\n",
      "    \n",
      "    \n",
      "    Properties:\n",
      "    Judge, ... (1985): The Theory and Practise of Econometrics\n",
      "    \n",
      "    BigJudge p. 237ff:\n",
      "    If the time series process is a stationary ARMA(p,q), then\n",
      "    minimizing the sum of squares is asymptoticaly (as T-> inf)\n",
      "    equivalent to the exact Maximum Likelihood Estimator\n",
      "    \n",
      "    Because Least Squares conditional on the initial information\n",
      "    does not use all information, in small samples exact MLE can\n",
      "    be better.\n",
      "    \n",
      "    Without the normality assumption, the least squares estimator\n",
      "    is still consistent under suitable conditions, however not\n",
      "    efficient\n",
      "    \n",
      "    Author: josefpktd\n",
      "    License: BSD\n",
      "\n",
      "FUNCTIONS\n",
      "    arma2ar(ar, ma, nobs=100)\n",
      "        get the AR representation of an ARMA process\n",
      "        \n",
      "        Parameters\n",
      "        ----------\n",
      "        ar : array_like, 1d\n",
      "            auto regressive lag polynomial\n",
      "        ma : array_like, 1d\n",
      "            moving average lag polynomial\n",
      "        nobs : int\n",
      "            number of observations to calculate\n",
      "        \n",
      "        Returns\n",
      "        -------\n",
      "        ar : array, 1d\n",
      "            coefficients of AR lag polynomial with nobs elements\n",
      "        \n",
      "        Notes\n",
      "        -----\n",
      "        This is just an alias for\n",
      "        ``ar_representation = arma_impulse_response(ma, ar, nobs=100)`` which has\n",
      "        been fully tested against MATLAB.\n",
      "        \n",
      "        Examples\n",
      "        --------\n",
      "    \n",
      "    arma2ma = arma_impulse_response(ar, ma, nobs=100)\n",
      "        get the impulse response function (MA representation) for ARMA process\n",
      "        \n",
      "        Parameters\n",
      "        ----------\n",
      "        ma : array_like, 1d\n",
      "            moving average lag polynomial\n",
      "        ar : array_like, 1d\n",
      "            auto regressive lag polynomial\n",
      "        nobs : int\n",
      "            number of observations to calculate\n",
      "        \n",
      "        Returns\n",
      "        -------\n",
      "        ir : array, 1d\n",
      "            impulse response function with nobs elements\n",
      "        \n",
      "        Notes\n",
      "        -----\n",
      "        This is the same as finding the MA representation of an ARMA(p,q).\n",
      "        By reversing the role of ar and ma in the function arguments, the\n",
      "        returned result is the AR representation of an ARMA(p,q), i.e\n",
      "        \n",
      "        ma_representation = arma_impulse_response(ar, ma, nobs=100)\n",
      "        ar_representation = arma_impulse_response(ma, ar, nobs=100)\n",
      "        \n",
      "        fully tested against matlab\n",
      "        \n",
      "        Examples\n",
      "        --------\n",
      "        AR(1)\n",
      "        \n",
      "        >>> arma_impulse_response([1.0, -0.8], [1.], nobs=10)\n",
      "        array([ 1.        ,  0.8       ,  0.64      ,  0.512     ,  0.4096    ,\n",
      "                0.32768   ,  0.262144  ,  0.2097152 ,  0.16777216,  0.13421773])\n",
      "        \n",
      "        this is the same as\n",
      "        \n",
      "        >>> 0.8**np.arange(10)\n",
      "        array([ 1.        ,  0.8       ,  0.64      ,  0.512     ,  0.4096    ,\n",
      "                0.32768   ,  0.262144  ,  0.2097152 ,  0.16777216,  0.13421773])\n",
      "        \n",
      "        MA(2)\n",
      "        \n",
      "        >>> arma_impulse_response([1.0], [1., 0.5, 0.2], nobs=10)\n",
      "        array([ 1. ,  0.5,  0.2,  0. ,  0. ,  0. ,  0. ,  0. ,  0. ,  0. ])\n",
      "        \n",
      "        ARMA(1,2)\n",
      "        \n",
      "        >>> arma_impulse_response([1.0, -0.8], [1., 0.5, 0.2], nobs=10)\n",
      "        array([ 1.        ,  1.3       ,  1.24      ,  0.992     ,  0.7936    ,\n",
      "                0.63488   ,  0.507904  ,  0.4063232 ,  0.32505856,  0.26004685])\n",
      "    \n",
      "    arma_acf(ar, ma, nobs=10)\n",
      "        theoretical autocorrelation function of an ARMA process\n",
      "        \n",
      "        Parameters\n",
      "        ----------\n",
      "        ar : array_like, 1d\n",
      "            coefficient for autoregressive lag polynomial, including zero lag\n",
      "        ma : array_like, 1d\n",
      "            coefficient for moving-average lag polynomial, including zero lag\n",
      "        nobs : int\n",
      "            number of terms (lags plus zero lag) to include in returned acf\n",
      "        \n",
      "        Returns\n",
      "        -------\n",
      "        acf : array\n",
      "            autocorrelation of ARMA process given by ar, ma\n",
      "        \n",
      "        \n",
      "        See Also\n",
      "        --------\n",
      "        arma_acovf\n",
      "        acf\n",
      "        acovf\n",
      "    \n",
      "    arma_acovf(ar, ma, nobs=10)\n",
      "        theoretical autocovariance function of ARMA process\n",
      "        \n",
      "        Parameters\n",
      "        ----------\n",
      "        ar : array_like, 1d\n",
      "            coefficient for autoregressive lag polynomial, including zero lag\n",
      "        ma : array_like, 1d\n",
      "            coefficient for moving-average lag polynomial, including zero lag\n",
      "        nobs : int\n",
      "            number of terms (lags plus zero lag) to include in returned acovf\n",
      "        \n",
      "        Returns\n",
      "        -------\n",
      "        acovf : array\n",
      "            autocovariance of ARMA process given by ar, ma\n",
      "        \n",
      "        See Also\n",
      "        --------\n",
      "        arma_acf\n",
      "        acovf\n",
      "        \n",
      "        \n",
      "        Notes\n",
      "        -----\n",
      "        Tries to do some crude numerical speed improvements for cases\n",
      "        with high persistance. However, this algorithm is slow if the process is\n",
      "        highly persistent and only a few autocovariances are desired.\n",
      "    \n",
      "    arma_generate_sample(ar, ma, nsample, sigma=1, distrvs=<built-in method randn of mtrand.RandomState object at 0x7f307dfda948>, burnin=0)\n",
      "        Generate a random sample of an ARMA process\n",
      "        \n",
      "        Parameters\n",
      "        ----------\n",
      "        ar : array_like, 1d\n",
      "            coefficient for autoregressive lag polynomial, including zero lag\n",
      "        ma : array_like, 1d\n",
      "            coefficient for moving-average lag polynomial, including zero lag\n",
      "        nsample : int\n",
      "            length of simulated time series\n",
      "        sigma : float\n",
      "            standard deviation of noise\n",
      "        distrvs : function, random number generator\n",
      "            function that generates the random numbers, and takes sample size\n",
      "            as argument\n",
      "            default: np.random.randn\n",
      "            TODO: change to size argument\n",
      "        burnin : integer (default: 0)\n",
      "            to reduce the effect of initial conditions, burnin observations at the\n",
      "            beginning of the sample are dropped\n",
      "        \n",
      "        Returns\n",
      "        -------\n",
      "        sample : array\n",
      "            sample of ARMA process given by ar, ma of length nsample\n",
      "        \n",
      "        Notes\n",
      "        -----\n",
      "        As mentioned above, both the AR and MA components should include the\n",
      "        coefficient on the zero-lag. This is typically 1. Further, due to the\n",
      "        conventions used in signal processing used in signal.lfilter vs.\n",
      "        conventions in statistics for ARMA processes, the AR paramters should\n",
      "        have the opposite sign of what you might expect. See the examples below.\n",
      "        \n",
      "        Examples\n",
      "        --------\n",
      "        >>> import numpy as np\n",
      "        >>> np.random.seed(12345)\n",
      "        >>> arparams = np.array([.75, -.25])\n",
      "        >>> maparams = np.array([.65, .35])\n",
      "        >>> ar = np.r_[1, -arparams] # add zero-lag and negate\n",
      "        >>> ma = np.r_[1, maparams] # add zero-lag\n",
      "        >>> y = sm.tsa.arma_generate_sample(ar, ma, 250)\n",
      "        >>> model = sm.tsa.ARMA(y, (2, 2)).fit(trend='nc', disp=0)\n",
      "        >>> model.params\n",
      "        array([ 0.79044189, -0.23140636,  0.70072904,  0.40608028])\n",
      "    \n",
      "    arma_impulse_response(ar, ma, nobs=100)\n",
      "        get the impulse response function (MA representation) for ARMA process\n",
      "        \n",
      "        Parameters\n",
      "        ----------\n",
      "        ma : array_like, 1d\n",
      "            moving average lag polynomial\n",
      "        ar : array_like, 1d\n",
      "            auto regressive lag polynomial\n",
      "        nobs : int\n",
      "            number of observations to calculate\n",
      "        \n",
      "        Returns\n",
      "        -------\n",
      "        ir : array, 1d\n",
      "            impulse response function with nobs elements\n",
      "        \n",
      "        Notes\n",
      "        -----\n",
      "        This is the same as finding the MA representation of an ARMA(p,q).\n",
      "        By reversing the role of ar and ma in the function arguments, the\n",
      "        returned result is the AR representation of an ARMA(p,q), i.e\n",
      "        \n",
      "        ma_representation = arma_impulse_response(ar, ma, nobs=100)\n",
      "        ar_representation = arma_impulse_response(ma, ar, nobs=100)\n",
      "        \n",
      "        fully tested against matlab\n",
      "        \n",
      "        Examples\n",
      "        --------\n",
      "        AR(1)\n",
      "        \n",
      "        >>> arma_impulse_response([1.0, -0.8], [1.], nobs=10)\n",
      "        array([ 1.        ,  0.8       ,  0.64      ,  0.512     ,  0.4096    ,\n",
      "                0.32768   ,  0.262144  ,  0.2097152 ,  0.16777216,  0.13421773])\n",
      "        \n",
      "        this is the same as\n",
      "        \n",
      "        >>> 0.8**np.arange(10)\n",
      "        array([ 1.        ,  0.8       ,  0.64      ,  0.512     ,  0.4096    ,\n",
      "                0.32768   ,  0.262144  ,  0.2097152 ,  0.16777216,  0.13421773])\n",
      "        \n",
      "        MA(2)\n",
      "        \n",
      "        >>> arma_impulse_response([1.0], [1., 0.5, 0.2], nobs=10)\n",
      "        array([ 1. ,  0.5,  0.2,  0. ,  0. ,  0. ,  0. ,  0. ,  0. ,  0. ])\n",
      "        \n",
      "        ARMA(1,2)\n",
      "        \n",
      "        >>> arma_impulse_response([1.0, -0.8], [1., 0.5, 0.2], nobs=10)\n",
      "        array([ 1.        ,  1.3       ,  1.24      ,  0.992     ,  0.7936    ,\n",
      "                0.63488   ,  0.507904  ,  0.4063232 ,  0.32505856,  0.26004685])\n",
      "    \n",
      "    deconvolve(num, den, n=None)\n",
      "        Deconvolves divisor out of signal, division of polynomials for n terms\n",
      "        \n",
      "        calculates den^{-1} * num\n",
      "        \n",
      "        Parameters\n",
      "        ----------\n",
      "        num : array_like\n",
      "            signal or lag polynomial\n",
      "        denom : array_like\n",
      "            coefficients of lag polynomial (linear filter)\n",
      "        n : None or int\n",
      "            number of terms of quotient\n",
      "        \n",
      "        Returns\n",
      "        -------\n",
      "        quot : array\n",
      "            quotient or filtered series\n",
      "        rem : array\n",
      "            remainder\n",
      "        \n",
      "        Notes\n",
      "        -----\n",
      "        If num is a time series, then this applies the linear filter den^{-1}.\n",
      "        If both num and den are both lagpolynomials, then this calculates the\n",
      "        quotient polynomial for n terms and also returns the remainder.\n",
      "        \n",
      "        This is copied from scipy.signal.signaltools and added n as optional\n",
      "        parameter.\n",
      "    \n",
      "    index2lpol(coeffs, index)\n",
      "        expand coefficients to lag poly\n",
      "        \n",
      "        Parameters\n",
      "        ----------\n",
      "        coeffs : array\n",
      "            non-zero coefficients of lag polynomial\n",
      "        index : array\n",
      "            index (lags) of lagpolynomial with non-zero elements\n",
      "        ar : array_like\n",
      "            coefficients of lag polynomial\n",
      "        \n",
      "        Returns\n",
      "        -------\n",
      "        ar : array_like\n",
      "            coefficients of lag polynomial\n",
      "    \n",
      "    lpol2index(ar)\n",
      "        remove zeros from lagpolynomial, squeezed representation with index\n",
      "        \n",
      "        Parameters\n",
      "        ----------\n",
      "        ar : array_like\n",
      "            coefficients of lag polynomial\n",
      "        \n",
      "        Returns\n",
      "        -------\n",
      "        coeffs : array\n",
      "            non-zero coefficients of lag polynomial\n",
      "        index : array\n",
      "            index (lags) of lagpolynomial with non-zero elements\n",
      "\n",
      "DATA\n",
      "    __all__ = ['arma_acf', 'arma_acovf', 'arma_generate_sample', 'arma_imp...\n",
      "\n",
      "FILE\n",
      "    /usr/local/lib/python3.5/dist-packages/statsmodels/tsa/arima_process.py\n",
      "\n",
      "\n"
     ]
    }
   ],
   "source": [
    "# http://www.statsmodels.org/stable/generated/statsmodels.tsa.seasonal.seasonal_decompose.html#statsmodels.tsa.seasonal.seasonal_decompose\n",
    "import statsmodels.tsa.seasonal\n",
    "import statsmodels.tsa.arima_process\n",
    "\n",
    "statsmodels.tsa.seasonal.seasonal_decompose\n",
    "help(statsmodels.tsa.arima_process)\n",
    "h = statsmodels.tsa.seasonal.seasonal_decompose(vprihousing, freq=12)"
   ]
  },
  {
   "cell_type": "code",
   "execution_count": 303,
   "metadata": {
    "collapsed": false
   },
   "outputs": [
    {
     "data": {
      "text/plain": [
       "<statsmodels.tsa.seasonal.DecomposeResult at 0x7f3052d1efd0>"
      ]
     },
     "execution_count": 303,
     "metadata": {},
     "output_type": "execute_result"
    },
    {
     "data": {
      "image/png": "[encoded data removed]",
      "text/plain": [
       "<matplotlib.figure.Figure at 0x7f30514062e8>"
      ]
     },
     "metadata": {},
     "output_type": "display_data"
    }
   ],
   "source": [
    "plt.plot(h.resid)\n",
    "plt.plot(h.seasonal)\n",
    "plt.plot(h.trend)\n"
   ]
  },
  {
   "cell_type": "code",
   "execution_count": 308,
   "metadata": {
    "collapsed": false
   },
   "outputs": [
    {
     "data": {
      "text/plain": [
       "[<matplotlib.lines.Line2D at 0x7f3052374240>]"
      ]
     },
     "execution_count": 308,
     "metadata": {},
     "output_type": "execute_result"
    },
    {
     "data": {
      "image/png": "[encoded data removed]",
      "text/plain": [
       "<matplotlib.figure.Figure at 0x7f3052374470>"
      ]
     },
     "metadata": {},
     "output_type": "display_data"
    }
   ],
   "source": [
    "plt.plot(datecol, h.resid + h.seasonal+ h.trend)\n",
    "plt.plot(datecol, vprihousing)\n"
   ]
  },
  {
   "cell_type": "code",
   "execution_count": 320,
   "metadata": {
    "collapsed": false
   },
   "outputs": [
    {
     "name": "stdout",
     "output_type": "stream",
     "text": [
      "0 1.0231591448931117\n",
      "1 1.155542658154382\n",
      "2 1.0462079357106981\n",
      "3 0.9927988478156505\n",
      "4 1.0749516441005802\n",
      "5 0.9293747188484031\n",
      "6 0.9181994191674734\n",
      "7 1.062730627306273\n",
      "8 1.085813492063492\n",
      "9 0.9419826404751028\n",
      "10 1.0024248302618817\n",
      "11 0.8592162554426706\n"
     ]
    },
    {
     "data": {
      "image/png": "[encoded data removed]",
      "text/plain": [
       "<matplotlib.figure.Figure at 0x7f3051be09b0>"
      ]
     },
     "metadata": {},
     "output_type": "display_data"
    }
   ],
   "source": [
    "v = h.seasonal\n",
    "#s = [ sum(x*y  for x, y in zip(v[a:], v))/(len(v)-a)  for a in range(20) ]\n",
    "plt.plot(h.seasonal)\n",
    "plt.plot(h.seasonal[12:])\n",
    "#plt.plot(h.resid)\n",
    "\n",
    "for i in range(12):\n",
    "    print(i, vprihousing[60+i+1]/vprihousing[60+i])\n"
   ]
  },
  {
   "cell_type": "code",
   "execution_count": 304,
   "metadata": {
    "collapsed": false
   },
   "outputs": [
    {
     "data": {
      "text/plain": [
       "NormaltestResult(statistic=1.9897597636837026, pvalue=0.36976785771060228)"
      ]
     },
     "execution_count": 304,
     "metadata": {},
     "output_type": "execute_result"
    },
    {
     "data": {
      "image/png": "[encoded data removed]",
      "text/plain": [
       "<matplotlib.figure.Figure at 0x7f305186c780>"
      ]
     },
     "metadata": {},
     "output_type": "display_data"
    }
   ],
   "source": [
    "import numpy\n",
    "hr = h.resid[6:-6]\n",
    "a, b = numpy.histogram(hr)\n",
    "#plt.bar(b[:-1], a, width=10)\n",
    "pd.DataFrame(h.resid).hist()\n",
    "scipy.stats.normaltest(v)\n"
   ]
  },
  {
   "cell_type": "code",
   "execution_count": 125,
   "metadata": {
    "collapsed": false
   },
   "outputs": [
    {
     "data": {
      "text/plain": [
       "NormaltestResult(statistic=2.0042709636639557, pvalue=0.36709467952880559)"
      ]
     },
     "execution_count": 125,
     "metadata": {},
     "output_type": "execute_result"
    }
   ],
   "source": [
    "# check for normality\n",
    "scipy.stats.normaltest(h.resid, nan_policy='omit')\n"
   ]
  },
  {
   "cell_type": "code",
   "execution_count": 197,
   "metadata": {
    "collapsed": false
   },
   "outputs": [
    {
     "data": {
      "text/plain": [
       "NormaltestResult(statistic=2.1591109190676461, pvalue=0.33974652315798676)"
      ]
     },
     "execution_count": 197,
     "metadata": {},
     "output_type": "execute_result"
    },
    {
     "data": {
      "image/png": "[encoded data removed]",
      "text/plain": [
       "<matplotlib.figure.Figure at 0x7f305812d780>"
      ]
     },
     "metadata": {},
     "output_type": "display_data"
    }
   ],
   "source": [
    "# generate random data\n",
    "j = [ random.gauss(0,5)  for i in range(100) ]\n",
    "a, b = numpy.histogram(j)\n",
    "plt.bar(b[:-1], a, width=0.1)\n",
    "scipy.stats.normaltest(j, nan_policy='omit')\n",
    "\n"
   ]
  },
  {
   "cell_type": "code",
   "execution_count": 206,
   "metadata": {
    "collapsed": false
   },
   "outputs": [
    {
     "data": {
      "text/plain": [
       "[<matplotlib.lines.Line2D at 0x7f3058156668>]"
      ]
     },
     "execution_count": 206,
     "metadata": {},
     "output_type": "execute_result"
    },
    {
     "data": {
      "image/png": "[encoded data removed]",
      "text/plain": [
       "<matplotlib.figure.Figure at 0x7f3057f2f1d0>"
      ]
     },
     "metadata": {},
     "output_type": "display_data"
    }
   ],
   "source": [
    "j = [ random.triangular(0,5)  for i in range(5000) ]\n",
    "j.sort()\n",
    "plt.plot(j)\n",
    "j = [ random.gauss(0,5)  for i in range(5000) ]\n",
    "j.sort()\n",
    "plt.plot(j)"
   ]
  },
  {
   "cell_type": "code",
   "execution_count": null,
   "metadata": {
    "collapsed": true
   },
   "outputs": [],
   "source": []
  }
 ],
 "metadata": {
  "kernelspec": {
   "display_name": "Python 3",
   "language": "python",
   "name": "python3"
  },
  "language_info": {
   "codemirror_mode": {
    "name": "ipython",
    "version": 3
   },
   "file_extension": ".py",
   "mimetype": "text/x-python",
   "name": "python",
   "nbconvert_exporter": "python",
   "pygments_lexer": "ipython3",
   "version": "3.5.2"
  },
  "widgets": {
   "state": {},
   "version": "1.1.1"
  }
 },
 "nbformat": 4,
 "nbformat_minor": 0
}
