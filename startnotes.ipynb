{
 "cells": [
  {
   "cell_type": "code",
   "execution_count": 10,
   "metadata": {
    "collapsed": true
   },
   "outputs": [],
   "source": [
    "from IPython.core.display import Image, SVG\n",
    "firetriangleimg = \"orgfiretriangle.svg\"\n",
    "firetriangleimg2 = \"jppfiretriangle.svg\"\n"
   ]
  },
  {
   "cell_type": "code",
   "execution_count": 12,
   "metadata": {},
   "outputs": [],
   "source": [
    "firetriangleimg, firetriangleimg2 = firetriangleimg2, firetriangleimg\n",
    "SVG(firetriangleimg2)\n"
   ]
  },
  {
   "cell_type": "code",
   "execution_count": 7,
   "metadata": {},
   "outputs": [],
   "source": [
    "Image(\"roadmap.jpg\")"
   ]
  },
  {
   "cell_type": "markdown",
   "metadata": {},
   "source": [
    "### process the image to make it clearer(?)\n",
    "import matplotlib.image as mpimg\n",
    "import matplotlib.pyplot as plt\n",
    "%matplotlib inline\n",
    "\n",
    "k = mpimg.imread(\"roadmap.jpg\")\n",
    "kl = k[:,:,0]\n",
    "plt.hist(kl.ravel(), bins=256);\n",
    "\n",
    "kh = k.copy()\n",
    "kh[kh[:,:,0]>170] = 255\n",
    "plt.figure(figsize=(20,18))\n",
    "plt.imshow(kh)\n",
    "\n"
   ]
  },
  {
   "cell_type": "code",
   "execution_count": null,
   "metadata": {
    "collapsed": true
   },
   "outputs": [],
   "source": []
  }
 ],
 "metadata": {
  "kernelspec": {
   "display_name": "Python 3",
   "language": "python",
   "name": "python3"
  },
  "language_info": {
   "codemirror_mode": {
    "name": "ipython",
    "version": 3
   },
   "file_extension": ".py",
   "mimetype": "text/x-python",
   "name": "python",
   "nbconvert_exporter": "python",
   "pygments_lexer": "ipython3",
   "version": "3.6.1"
  }
 },
 "nbformat": 4,
 "nbformat_minor": 2
}
