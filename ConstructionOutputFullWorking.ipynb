{
 "cells": [
  {
   "cell_type": "markdown",
   "metadata": {},
   "source": [
    "# Construction table work\n",
    "\n",
    "The following notebook applies to the spreadsheets taken from here\n",
    "http://www.ons.gov.uk/businessindustryandtrade/constructionindustry/datasets/outputintheconstructionindustry\n",
    "\n",
    "(We do not have a good way of managing the input and output, so download it to the local directory so that the next cell which loads up the spreadsheet can run from there.)\n",
    "\n",
    "The following works through processing 8 of the tables which are in a similar format and are generally presentations of the same data -- Table1 sets all values at 2013 to 100, Table 3 is percentage change, Tables 2 and 4 are volume and value (volume is .  Each pair of tables (a and b) is in seasonal and non-seasonal adjusted (more later).\n",
    "\n",
    "There are 14 columns in each table, 5 of which are calculated by summing the other columns to within plus or minus one, which means that the source data has been rounded after summing before it is copied into here.\n",
    "\n",
    "The variation/confidence interval on the most recent numbers is given on Table 11, but this is not included for the previous months.  This could be given for all the numbers at the same in a similar format table, which would make it useful for statistical time series modelling.\n",
    "\n",
    "The methodology for seasonal adjustment (a time-series process) is given [here](https://www.ons.gov.uk/businessindustryandtrade/constructionindustry/qmis/constructionoutputqmi) as being from X-13 Arima, a US Census program that is written in Fortran and takes the numbers in a particular flat data form.  This means that anywhere with seasonal adjustment is already implementing databaker (flattening the numbers into a time series) probably by hand for the purpose of feeding it into this program.  \n",
    "\n",
    "We could automate calling the seasonal adjustment software directly from databaker so as to remove these series and simplify the incoming data.  The science of seasonal adjustment is under-developed if it doesn't account for the variance of each measuring point, like the kalman filter.  The papers I have seen are over-complex for a one-dimensional problem, and the software is inflexible -- you can't revise and adjust the equations because the code is too large when it should be using single function calls to scipy signal processing.  \n",
    "\n",
    "\n",
    "\n",
    "\n",
    "\n"
   ]
  },
  {
   "cell_type": "code",
   "execution_count": null,
   "metadata": {
    "collapsed": true
   },
   "outputs": [],
   "source": []
  },
  {
   "cell_type": "code",
   "execution_count": 6,
   "metadata": {},
   "outputs": [
    {
     "name": "stdout",
     "output_type": "stream",
     "text": [
      "Loading constructionoutputdecember2016.xls which has size 984576 bytes\n",
      "Table names: ['Cover Sheet', 'Contents', 'Table 1a', 'Table 1b', 'Table 2a', 'Table 2b', 'Table 3a', 'Table 3b', 'Table 4', 'Table 4a', 'Table 5', 'Table 6', 'Table 7a', 'Table 7b', 'Table 9a', 'Table 10', 'Table 11', 'Table 12', 'Table 13', 'Table 14']\n"
     ]
    }
   ],
   "source": [
    "# Load up our construction output table from the url page:\n",
    "# durl = \"http://www.ons.gov.uk/businessindustryandtrade/constructionindustry/datasets/outputintheconstructionindustry\"\n",
    "\n",
    "%matplotlib inline \n",
    "from matplotlib import pyplot as plt\n",
    "from databaker.framework import *\n",
    "import pandas as pd, numpy as np, re\n",
    "\n",
    "previewhtml = \"preview.html\"\n",
    "fname = \"constructionoutputdecember2016.xls\"\n",
    "tabs = loadxlstabs(fname)\n"
   ]
  },
  {
   "cell_type": "code",
   "execution_count": 7,
   "metadata": {},
   "outputs": [
    {
     "name": "stdout",
     "output_type": "stream",
     "text": [
      "Table 1a \t CONSTRUCTION OUTPUT IN GREAT BRITAIN: VOLUME SEASONALLY ADJUSTED INDEX NUMBERS - BY SECTOR\n",
      "Table 1b \t CONSTRUCTION OUTPUT IN GREAT BRITAIN: VOLUME NON-SEASONALLY ADJUSTED INDEX NUMBERS - BY SECTOR\n",
      "Table 2a \t CONSTRUCTION OUTPUT: VOLUME SEASONALLY ADJUSTED BY SECTOR\n",
      "Table 2b \t CONSTRUCTION OUTPUT: VOLUME NON-SEASONALLY ADJUSTED, BY SECTOR\n",
      "Table 3a \t CONSTRUCTION OUTPUT: VOLUME SEASONALLY ADJUSTED PERCENTAGE CHANGE PERIOD ON PERIOD\n",
      "Table 3b \t CONSTRUCTION OUTPUT: VOLUME SEASONALLY ADJUSTED PERCENTAGE CHANGE ON SAME PERIOD A YEAR EARLIER - BY SECTOR\n",
      "Table 4 \t CONSTRUCTION OUTPUT: VALUE NON-SEASONALLY ADJUSTED, CURRENT PRICES BY SECTOR\n",
      "Table 4a \t CONSTRUCTION OUTPUT: VALUE SEASONALLY ADJUSTED - CURRENT PRICES BY SECTOR\n",
      "Table 9a \t IMPLIED OUTPUT PRICE INDICATOR, NON-SEASONALLY ADJUSTED\n",
      "tablepart 'Table 1a' written #injblock1005\n"
     ]
    },
    {
     "data": {
      "text/html": [
       "Written to file: <a href='preview.html' target='_blank'>preview.html</a><br>"
      ],
      "text/plain": [
       "/home/julian/repositories/royalstatsoctalk/preview.html"
      ]
     },
     "metadata": {},
     "output_type": "display_data"
    }
   ],
   "source": [
    "# Get the tables which match the most common format and the titles\n",
    "import re\n",
    "htabs = [ ]\n",
    "for tab in tabs:\n",
    "    if tab.excel_ref(\"C6\").value == \"New Housing\":\n",
    "        htabs.append(tab)\n",
    "        print(tab.name, \"\\t\", re.sub(\"\\s+\", \" \", tab.excel_ref(\"C2\").value))\n",
    "\n",
    "savepreviewhtml(htabs[0], previewhtml)"
   ]
  },
  {
   "cell_type": "code",
   "execution_count": 8,
   "metadata": {},
   "outputs": [
    {
     "name": "stdout",
     "output_type": "stream",
     "text": [
      "tablepart 'Table 2b' written #injblock1006\n"
     ]
    },
    {
     "data": {
      "text/html": [
       "Written to file: <a href='preview.html' target='_blank'>preview.html</a><br>"
      ],
      "text/plain": [
       "/home/julian/repositories/royalstatsoctalk/preview.html"
      ]
     },
     "metadata": {},
     "output_type": "display_data"
    }
   ],
   "source": [
    "\n",
    "# spread those multi-cell heading values across widthwise and move vertical ones down\n",
    "# (should be a function within the library)\n",
    "\n",
    "def FixMultipleCellsHeading(tab):\n",
    "    hh = tab.excel_ref(\"C6:P9\").is_not_whitespace()\n",
    "    for cc in hh:\n",
    "        val = cc.value\n",
    "        ch = set(cc.children().unordered_cells)\n",
    "        xwidth = len(set(c.x  for c in ch))\n",
    "        ywidth = len(set(c.y  for c in ch))\n",
    "        if ywidth == 1:\n",
    "            for c in ch:\n",
    "                c.value = val\n",
    "        elif xwidth == 1:\n",
    "            bottomcell = max(ch, key=lambda X:X.y)\n",
    "            for c in ch:\n",
    "                c.value = ''\n",
    "            bottomcell.value = val\n",
    "            \n",
    "\n",
    "FixMultipleCellsHeading(htabs[3])\n",
    "savepreviewhtml(htabs[3], previewhtml)\n"
   ]
  },
  {
   "cell_type": "code",
   "execution_count": 9,
   "metadata": {},
   "outputs": [
    {
     "name": "stdout",
     "output_type": "stream",
     "text": [
      "tablepart 'Table 1a' written #injblock1007\n"
     ]
    },
    {
     "data": {
      "text/html": [
       "Written to file: <a href='preview.html' target='_blank'>preview.html</a><br>"
      ],
      "text/plain": [
       "/home/julian/repositories/royalstatsoctalk/preview.html"
      ]
     },
     "metadata": {},
     "output_type": "display_data"
    }
   ],
   "source": [
    "# Build up the conversion segment\n",
    "tab = htabs[0]\n",
    "period = tab.filter(\"Period\")\n",
    "savepreviewhtml(period, previewhtml)\n",
    "# etc"
   ]
  },
  {
   "cell_type": "code",
   "execution_count": 10,
   "metadata": {},
   "outputs": [
    {
     "name": "stdout",
     "output_type": "stream",
     "text": [
      "tablepart 'Table 1a' written #injblock1008\n",
      "javascript calculated\n"
     ]
    },
    {
     "data": {
      "text/html": [
       "Written to file: <a href='preview.html' target='_blank'>preview.html</a><br>"
      ],
      "text/plain": [
       "/home/julian/repositories/royalstatsoctalk/preview.html"
      ]
     },
     "metadata": {},
     "output_type": "display_data"
    }
   ],
   "source": [
    "# select the complete conversion segments\n",
    "def CSegNormal(tab):\n",
    "    period = tab.filter(\"Period\")\n",
    "    s4headings = period.shift((0,3)).fill(RIGHT).is_not_whitespace()\n",
    "    s4up = s4headings.shift((0,-1))\n",
    "    s4up2 = s4headings.shift((0,-3))\n",
    "    s4up3 = s4headings.shift((0,-4))\n",
    "    obs = s4headings.fill(DOWN).is_not_whitespace()\n",
    "    subyear = s4headings.by_index(1).shift(LEFT).fill(DOWN)\n",
    "    year = subyear.shift(LEFT).is_not_whitespace()\n",
    "\n",
    "    hdimheadings = HDim(s4headings, \"s4heading\", DIRECTLY, UP)\n",
    "    hdimdesc1 = HDim(s4up, \"desc1\", DIRECTLY, UP)\n",
    "    hdimdesc2 = HDim(s4up2, \"desc2\", DIRECTLY, UP)\n",
    "    hdimdesc3 = HDim(s4up3, \"desc3\", DIRECTLY, UP, LEFT)\n",
    "    hdimyear = HDim(year, \"year\", CLOSEST, UP)\n",
    "    hdimsubyear = HDim(subyear, \"subyear\", DIRECTLY, LEFT)\n",
    "\n",
    "    cs = ConversionSegment(obs, [hdimheadings, hdimdesc1, hdimdesc2, hdimdesc3, hdimsubyear, hdimyear])\n",
    "    return cs\n",
    "\n",
    "cs = CSegNormal(htabs[0])\n",
    "savepreviewhtml(cs, previewhtml)\n",
    "\n"
   ]
  },
  {
   "cell_type": "code",
   "execution_count": 11,
   "metadata": {},
   "outputs": [
    {
     "name": "stdout",
     "output_type": "stream",
     "text": [
      "\n"
     ]
    },
    {
     "data": {
      "text/html": [
       "<div>\n",
       "<style>\n",
       "    .dataframe thead tr:only-child th {\n",
       "        text-align: right;\n",
       "    }\n",
       "\n",
       "    .dataframe thead th {\n",
       "        text-align: left;\n",
       "    }\n",
       "\n",
       "    .dataframe tbody tr th {\n",
       "        vertical-align: top;\n",
       "    }\n",
       "</style>\n",
       "<table border=\"1\" class=\"dataframe\">\n",
       "  <thead>\n",
       "    <tr style=\"text-align: right;\">\n",
       "      <th></th>\n",
       "      <th>OBS</th>\n",
       "      <th>s4heading</th>\n",
       "      <th>desc1</th>\n",
       "      <th>desc2</th>\n",
       "      <th>desc3</th>\n",
       "      <th>subyear</th>\n",
       "      <th>year</th>\n",
       "    </tr>\n",
       "  </thead>\n",
       "  <tbody>\n",
       "    <tr>\n",
       "      <th>2571</th>\n",
       "      <td>1416.0</td>\n",
       "      <td>MV4J</td>\n",
       "      <td>Private</td>\n",
       "      <td>Housing</td>\n",
       "      <td>Repair and Maintenance</td>\n",
       "      <td>Dec</td>\n",
       "      <td>2016.0</td>\n",
       "    </tr>\n",
       "    <tr>\n",
       "      <th>2572</th>\n",
       "      <td>1911.0</td>\n",
       "      <td>MV4K</td>\n",
       "      <td>Total</td>\n",
       "      <td>Housing</td>\n",
       "      <td>Repair and Maintenance</td>\n",
       "      <td>Dec</td>\n",
       "      <td>2016.0</td>\n",
       "    </tr>\n",
       "    <tr>\n",
       "      <th>2573</th>\n",
       "      <td>1731.0</td>\n",
       "      <td>MV4L</td>\n",
       "      <td>Non Housing R&amp;M</td>\n",
       "      <td></td>\n",
       "      <td>Repair and Maintenance</td>\n",
       "      <td>Dec</td>\n",
       "      <td>2016.0</td>\n",
       "    </tr>\n",
       "    <tr>\n",
       "      <th>2574</th>\n",
       "      <td>3642.0</td>\n",
       "      <td>MV4M</td>\n",
       "      <td>All Repair and Maintenance</td>\n",
       "      <td></td>\n",
       "      <td></td>\n",
       "      <td>Dec</td>\n",
       "      <td>2016.0</td>\n",
       "    </tr>\n",
       "    <tr>\n",
       "      <th>2575</th>\n",
       "      <td>10681.0</td>\n",
       "      <td>MV4N</td>\n",
       "      <td>All Work</td>\n",
       "      <td></td>\n",
       "      <td></td>\n",
       "      <td>Dec</td>\n",
       "      <td>2016.0</td>\n",
       "    </tr>\n",
       "  </tbody>\n",
       "</table>\n",
       "</div>"
      ],
      "text/plain": [
       "          OBS s4heading                       desc1    desc2  \\\n",
       "2571   1416.0      MV4J                     Private  Housing   \n",
       "2572   1911.0      MV4K                       Total  Housing   \n",
       "2573   1731.0      MV4L             Non Housing R&M            \n",
       "2574   3642.0      MV4M  All Repair and Maintenance            \n",
       "2575  10681.0      MV4N                    All Work            \n",
       "\n",
       "                       desc3 subyear    year  \n",
       "2571  Repair and Maintenance     Dec  2016.0  \n",
       "2572  Repair and Maintenance     Dec  2016.0  \n",
       "2573  Repair and Maintenance     Dec  2016.0  \n",
       "2574                             Dec  2016.0  \n",
       "2575                             Dec  2016.0  "
      ]
     },
     "execution_count": 11,
     "metadata": {},
     "output_type": "execute_result"
    }
   ],
   "source": [
    "# Convert a conversion segment to pandas\n",
    "tab = htabs[3]\n",
    "FixMultipleCellsHeading(tab)\n",
    "cs = CSegNormal(tab)\n",
    "k = cs.topandas()\n",
    "#k.subyear + \" \" + k.year\n",
    "k.tail()"
   ]
  },
  {
   "cell_type": "code",
   "execution_count": 12,
   "metadata": {
    "collapsed": true
   },
   "outputs": [],
   "source": [
    "# Full pandas conversion function with date fixing and heading concatenation\n",
    "def ConvertPD(cs):\n",
    "    k = cs.topandas()\n",
    "    k[\"TIME\"] = k.subyear + \" \" + k.year\n",
    "    pdguessforceTIMEUNIT(k)\n",
    "    k = k.drop([\"subyear\", \"year\"], axis=1)\n",
    "    k.TIME = pd.to_datetime(k.apply(lambda row: row.TIME  if \"Q\" not in row.TIME else row.TIME.replace(\" \", \"\"), axis=1))\n",
    "    def rj(r):\n",
    "        rs = [ ]\n",
    "        if r.desc1:  rs.append(r.desc1.replace(\"-\", \"\").strip())  # inconsistent Infra-struc-ture\n",
    "        if r.desc2:  rs.append(r.desc2.strip())\n",
    "        if r.desc3:  rs.append(r.desc3.strip())\n",
    "        return \",\".join(rs)\n",
    "    k[\"desc\"] = k.apply(lambda r: rj(r), axis=1)\n",
    "    k = k.drop([\"desc1\", \"desc2\", \"desc3\", \"s4heading\"], axis=1)\n",
    "    k = k.sort_values(by=[\"desc\", \"TIMEUNIT\", \"TIME\"])\n",
    "    k = k.set_index([\"desc\", \"TIMEUNIT\", \"TIME\"])\n",
    "    return k \n",
    "\n",
    "\n"
   ]
  },
  {
   "cell_type": "code",
   "execution_count": 13,
   "metadata": {},
   "outputs": [
    {
     "name": "stdout",
     "output_type": "stream",
     "text": [
      "\n",
      "\n",
      "\n",
      "\n",
      "\n",
      "\n",
      "\n",
      "\n",
      "\n"
     ]
    }
   ],
   "source": [
    "# Run the full conversion across each of our tabs we've found\n",
    "pds = [ ]\n",
    "for tab in htabs:\n",
    "    FixMultipleCellsHeading(tab)\n",
    "    cs = CSegNormal(tab)\n",
    "    k = ConvertPD(cs)\n",
    "    pds.append(k)\n",
    "    "
   ]
  },
  {
   "cell_type": "code",
   "execution_count": 14,
   "metadata": {
    "collapsed": true
   },
   "outputs": [],
   "source": [
    "# Now put these into meaningful variables (note the chaos)\n",
    "\n",
    "consindexSA, consindexNSA = pds[0], pds[1]\n",
    "consvolumeSA, consvolumeNSA = pds[2], pds[3]\n",
    "conspercchangePeriodSA, conspercchangeYearSA = pds[4], pds[5]\n",
    "consvalueNSA, consvalueSA = pds[6], pds[7]\n",
    "conspriceindicNSA = pds[8]\n",
    "    \n",
    "#savepreviewhtml(consindexSA, previewhtml)\n"
   ]
  },
  {
   "cell_type": "code",
   "execution_count": 15,
   "metadata": {},
   "outputs": [
    {
     "data": {
      "text/plain": [
       "Index(['All New Work', 'All Repair and Maintenance', 'All Work',\n",
       "       'Infrastructure,Other New Work',\n",
       "       'Non Housing R&M,Repair and Maintenance',\n",
       "       'Private Commercial,Excluding Infrastructure,Other New Work',\n",
       "       'Private Industrial,Excluding Infrastructure,Other New Work',\n",
       "       'Private,Housing,Repair and Maintenance', 'Private,New Housing',\n",
       "       'Public,Excluding Infrastructure,Other New Work',\n",
       "       'Public,Housing,Repair and Maintenance', 'Public,New Housing',\n",
       "       'Total Housing', 'Total,Housing,Repair and Maintenance'],\n",
       "      dtype='object', name='desc')"
      ]
     },
     "execution_count": 15,
     "metadata": {},
     "output_type": "execute_result"
    }
   ],
   "source": [
    "d = \"All New Work\"\n",
    "k = consvolumeNSA\n",
    "\n",
    "# look at the different levels\n",
    "k.index.levels[1]\n",
    "\n",
    "# we can get out a single element as a triple-wise index (but handling the Timestamp is a nuisance)\n",
    "# (See timestamp documentation)\n",
    "s = k.iloc[0]\n",
    "s.name\n",
    "#k.loc[(d, 'Year', pd.Timestamp('2010-01-01 00:00:00'))]\n",
    "\n",
    "k.xs(key=d, level=0)\n",
    "#d\n",
    "k.index.levels[0]\n"
   ]
  },
  {
   "cell_type": "code",
   "execution_count": 16,
   "metadata": {},
   "outputs": [
    {
     "data": {
      "text/plain": [
       "2.0"
      ]
     },
     "execution_count": 16,
     "metadata": {},
     "output_type": "execute_result"
    }
   ],
   "source": [
    "k = consvolumeNSA\n",
    "\n",
    "k.xs(key='Public,New Housing', level=0)  # <-- DataFrame\n",
    "k.xs(key='Public,New Housing', level=0).OBS  # <-- Series\n",
    "\n",
    "# show the dataframe\n",
    "pd.DataFrame(data={\"col1\":k.xs(key='Public,New Housing', level=0).OBS, \n",
    "                   \"col2\":k.xs(key='Private,New Housing', level=0).OBS, \n",
    "                   \"col3\":k.xs(key='Total Housing', level=0).OBS}) \n",
    "\n",
    "# can add DataFrames (lined up by their indexes)\n",
    "k.xs(key='Public,New Housing', level=0)+k.xs(key='Private,New Housing', level=0)-k.xs(key='Total Housing', level=0)\n",
    "\n",
    "# Prove that the columns add up\n",
    "k = consvalueNSA\n",
    "THerr = (k.xs(key='Public,New Housing', level=0)+k.xs(key='Private,New Housing', level=0)-k.xs(key='Total Housing', level=0))\n",
    "max(np.abs(THerr.OBS))\n"
   ]
  },
  {
   "cell_type": "code",
   "execution_count": 17,
   "metadata": {},
   "outputs": [
    {
     "data": {
      "text/plain": [
       "2.0"
      ]
     },
     "execution_count": 17,
     "metadata": {},
     "output_type": "execute_result"
    }
   ],
   "source": [
    "k = consvolumeNSA\n",
    "k = consvalueNSA\n",
    "\n",
    "TNWerr = k.xs('Infrastructure,Other New Work')+k.xs('Private Commercial,Excluding Infrastructure,Other New Work')\\\n",
    "         +k.xs('Private Industrial,Excluding Infrastructure,Other New Work')+k.xs('Public,Excluding Infrastructure,Other New Work')\\\n",
    "         -k.xs('All New Work')+k.xs('Total Housing')\n",
    "TNWerr\n",
    "max(np.abs(TNWerr.OBS))\n",
    "\n",
    "k = consvolumeNSA\n",
    "TRMerr = k.xs('Public,Housing,Repair and Maintenance')+k.xs('Private,Housing,Repair and Maintenance')\\\n",
    "         -k.xs('Total,Housing,Repair and Maintenance')\n",
    "TRMerr\n",
    "max(np.abs(TRMerr.OBS))\n",
    "\n",
    "# Note bug of missing ,Housing, heading extension in Table 4\n",
    "k = consvalueNSA\n",
    "TRMerr = k.xs('Public,Housing,Repair and Maintenance')+k.xs('Private,Housing,Repair and Maintenance')\\\n",
    "         -k.xs('Total,Repair and Maintenance')\n",
    "TRMerr\n",
    "max(np.abs(TRMerr.OBS))\n",
    "\n"
   ]
  },
  {
   "cell_type": "code",
   "execution_count": 18,
   "metadata": {},
   "outputs": [
    {
     "data": {
      "text/plain": [
       "1.0"
      ]
     },
     "execution_count": 18,
     "metadata": {},
     "output_type": "execute_result"
    }
   ],
   "source": [
    "k = consvolumeNSA\n",
    "\n",
    "TRMerr = k.xs('Non Housing R&M,Repair and Maintenance')+k.xs('Total,Housing,Repair and Maintenance')\\\n",
    "         -k.xs('All Repair and Maintenance')\n",
    "max(np.abs(TRMerr.OBS))\n",
    "\n",
    "k = consvalueNSA\n",
    "\n",
    "TRMerr = k.xs('Total,Repair and Maintenance')+k.xs('Infrastructure,Repair and Maintenance')\\\n",
    "         +k.xs('Public,Other Work,Repair and Maintenance')+k.xs('Private,Other Work,Repair and Maintenance')\\\n",
    "         -k.xs('All Repair and Maintenance')\n",
    "max(np.abs(TRMerr.OBS))\n",
    "\n",
    "k = consvolumeNSA\n",
    "#k = consvalueNSA\n",
    "TRMerr = k.xs('All New Work')+k.xs('All Repair and Maintenance')\\\n",
    "         -k.xs('All Work')\n",
    "max(np.abs(TRMerr.OBS))\n",
    "#'', 'All Repair and Maintenance', 'All Work',\n",
    "#'Non Housing R&M,Repair and Maintenance',\n",
    "#k.index.levels[0]\n"
   ]
  },
  {
   "cell_type": "markdown",
   "metadata": {},
   "source": [
    "## Redundant Column Results:\n",
    "\n",
    "* For consvolumeNSA, consvalueNSA\n",
    "  * Total Housing = Private,New Housing + Public,New Housing\n",
    "  * All New Work = Total Housing + Infrastruc-ture,Other New Work + Private Commercial,Excluding Infrastructure,Other New Work + Private Industrial,Excluding Infrastructure,Other New Work + Public,Excluding Infrastructure,Other New Work\n",
    "  * Total(,Housing),Repair and Maintenance = Public,Housing,Repair and Maintenance + Private,Housing,Repair and Maintenance'\n",
    "  * All Work = All New Work + All Repair and Maintenance\n",
    "\n",
    "* consvolumeNSA\n",
    "  * All Repair and Maintenance = Non Housing R&M,Repair and Maintenance + Total,Housing,Repair and Maintenance\n",
    "* consvalueNSA\n",
    "  * All Repair and Maintenance = Total,Repair and Maintenance + Infrastructure,Repair and Maintenance + Public,Other Work,Repair and Maintenance + Private,Other Work,Repair and Maintenance\n",
    "  \n"
   ]
  },
  {
   "cell_type": "code",
   "execution_count": 19,
   "metadata": {},
   "outputs": [
    {
     "data": {
      "text/plain": [
       "1.0"
      ]
     },
     "execution_count": 19,
     "metadata": {},
     "output_type": "execute_result"
    }
   ],
   "source": [
    "k = consvolumeNSA\n",
    "d = 'Public,New Housing'\n",
    "s = k.xs((d, \"Month\")).resample(\"QS\").apply(np.sum) - k.xs((d, \"Quarter\"))\n",
    "s = k.xs((d, \"Quarter\")).resample(\"AS\").apply(np.sum) - k.xs((d, \"Year\"))\n",
    "max(np.abs(s.dropna().OBS))\n",
    "\n"
   ]
  },
  {
   "cell_type": "code",
   "execution_count": 20,
   "metadata": {
    "collapsed": true
   },
   "outputs": [],
   "source": [
    "# check resamples\n",
    "k = consvolumeNSA.OBS.unstack(level=0)\n",
    "s = k.xs(\"Month\").resample(\"QS\").apply(np.sum) - k.xs(\"Quarter\")\n",
    "s = k.xs(\"Quarter\").resample(\"AS\").apply(np.sum) - k.xs(\"Year\")\n",
    "s = s.dropna()\n",
    "max(max(s.iloc[i])  for i in range(len(s)))\n",
    "\n",
    "# Note that there is a disagreement here with the year summary\n",
    "k = consvalueNSA.OBS.unstack(level=0)\n",
    "#s = k.xs(\"Month\").resample(\"QS\").apply(np.sum) - k.xs(\"Quarter\")\n",
    "#s = k.xs(\"Quarter\").resample(\"AS\").apply(np.sum) - k.xs(\"Year\")\n",
    "s = s.dropna()\n",
    "\n",
    "#k.xs(\"Quarter\").to_csv(\"UKconstructionvaluequarter.csv\")"
   ]
  },
  {
   "cell_type": "code",
   "execution_count": 21,
   "metadata": {},
   "outputs": [
    {
     "data": {
      "text/html": [
       "<div>\n",
       "<style>\n",
       "    .dataframe thead tr:only-child th {\n",
       "        text-align: right;\n",
       "    }\n",
       "\n",
       "    .dataframe thead th {\n",
       "        text-align: left;\n",
       "    }\n",
       "\n",
       "    .dataframe tbody tr th {\n",
       "        vertical-align: top;\n",
       "    }\n",
       "</style>\n",
       "<table border=\"1\" class=\"dataframe\">\n",
       "  <thead>\n",
       "    <tr style=\"text-align: right;\">\n",
       "      <th>desc</th>\n",
       "      <th>All New Work</th>\n",
       "      <th>All Repair and Maintenance</th>\n",
       "      <th>All Work</th>\n",
       "      <th>Infrastructure,Other New Work</th>\n",
       "      <th>Non Housing R&amp;M,Repair and Maintenance</th>\n",
       "      <th>Private Commercial,Excluding Infrastructure,Other New Work</th>\n",
       "      <th>Private Industrial,Excluding Infrastructure,Other New Work</th>\n",
       "      <th>Private,Housing,Repair and Maintenance</th>\n",
       "      <th>Private,New Housing</th>\n",
       "      <th>Public,Excluding Infrastructure,Other New Work</th>\n",
       "      <th>Public,Housing,Repair and Maintenance</th>\n",
       "      <th>Public,New Housing</th>\n",
       "      <th>Total Housing</th>\n",
       "      <th>Total,Housing,Repair and Maintenance</th>\n",
       "    </tr>\n",
       "    <tr>\n",
       "      <th>TIME</th>\n",
       "      <th></th>\n",
       "      <th></th>\n",
       "      <th></th>\n",
       "      <th></th>\n",
       "      <th></th>\n",
       "      <th></th>\n",
       "      <th></th>\n",
       "      <th></th>\n",
       "      <th></th>\n",
       "      <th></th>\n",
       "      <th></th>\n",
       "      <th></th>\n",
       "      <th></th>\n",
       "      <th></th>\n",
       "    </tr>\n",
       "  </thead>\n",
       "  <tbody>\n",
       "    <tr>\n",
       "      <th>2010-01-01</th>\n",
       "      <td>60.727497</td>\n",
       "      <td>37.992228</td>\n",
       "      <td>98.718593</td>\n",
       "      <td>12.272189</td>\n",
       "      <td>19.002770</td>\n",
       "      <td>18.845701</td>\n",
       "      <td>2.871397</td>\n",
       "      <td>12.884615</td>\n",
       "      <td>14.929825</td>\n",
       "      <td>8.190731</td>\n",
       "      <td>6.101861</td>\n",
       "      <td>3.586207</td>\n",
       "      <td>18.500000</td>\n",
       "      <td>18.990268</td>\n",
       "    </tr>\n",
       "    <tr>\n",
       "      <th>2010-02-01</th>\n",
       "      <td>60.695469</td>\n",
       "      <td>37.997750</td>\n",
       "      <td>98.682505</td>\n",
       "      <td>12.277020</td>\n",
       "      <td>19.016787</td>\n",
       "      <td>18.839104</td>\n",
       "      <td>2.875494</td>\n",
       "      <td>12.883939</td>\n",
       "      <td>14.921090</td>\n",
       "      <td>8.194662</td>\n",
       "      <td>6.105727</td>\n",
       "      <td>3.588235</td>\n",
       "      <td>18.500000</td>\n",
       "      <td>18.983051</td>\n",
       "    </tr>\n",
       "    <tr>\n",
       "      <th>2010-03-01</th>\n",
       "      <td>60.686016</td>\n",
       "      <td>38.007700</td>\n",
       "      <td>98.717015</td>\n",
       "      <td>12.279226</td>\n",
       "      <td>19.023162</td>\n",
       "      <td>18.847550</td>\n",
       "      <td>2.870608</td>\n",
       "      <td>12.871587</td>\n",
       "      <td>14.922711</td>\n",
       "      <td>8.190985</td>\n",
       "      <td>6.105508</td>\n",
       "      <td>3.583181</td>\n",
       "      <td>18.505618</td>\n",
       "      <td>18.986175</td>\n",
       "    </tr>\n",
       "    <tr>\n",
       "      <th>2010-04-01</th>\n",
       "      <td>60.662188</td>\n",
       "      <td>38.004338</td>\n",
       "      <td>98.644578</td>\n",
       "      <td>12.273161</td>\n",
       "      <td>19.022727</td>\n",
       "      <td>18.856859</td>\n",
       "      <td>2.867420</td>\n",
       "      <td>12.881720</td>\n",
       "      <td>14.922711</td>\n",
       "      <td>8.192128</td>\n",
       "      <td>6.100386</td>\n",
       "      <td>3.587060</td>\n",
       "      <td>18.503401</td>\n",
       "      <td>18.983402</td>\n",
       "    </tr>\n",
       "    <tr>\n",
       "      <th>2010-05-01</th>\n",
       "      <td>60.687732</td>\n",
       "      <td>37.989418</td>\n",
       "      <td>98.731707</td>\n",
       "      <td>12.264325</td>\n",
       "      <td>19.025522</td>\n",
       "      <td>18.849810</td>\n",
       "      <td>2.874647</td>\n",
       "      <td>12.887113</td>\n",
       "      <td>14.908046</td>\n",
       "      <td>8.194631</td>\n",
       "      <td>6.099815</td>\n",
       "      <td>3.586957</td>\n",
       "      <td>18.502732</td>\n",
       "      <td>18.987342</td>\n",
       "    </tr>\n",
       "  </tbody>\n",
       "</table>\n",
       "</div>"
      ],
      "text/plain": [
       "desc        All New Work  All Repair and Maintenance   All Work  \\\n",
       "TIME                                                              \n",
       "2010-01-01     60.727497                   37.992228  98.718593   \n",
       "2010-02-01     60.695469                   37.997750  98.682505   \n",
       "2010-03-01     60.686016                   38.007700  98.717015   \n",
       "2010-04-01     60.662188                   38.004338  98.644578   \n",
       "2010-05-01     60.687732                   37.989418  98.731707   \n",
       "\n",
       "desc        Infrastructure,Other New Work  \\\n",
       "TIME                                        \n",
       "2010-01-01                      12.272189   \n",
       "2010-02-01                      12.277020   \n",
       "2010-03-01                      12.279226   \n",
       "2010-04-01                      12.273161   \n",
       "2010-05-01                      12.264325   \n",
       "\n",
       "desc        Non Housing R&M,Repair and Maintenance  \\\n",
       "TIME                                                 \n",
       "2010-01-01                               19.002770   \n",
       "2010-02-01                               19.016787   \n",
       "2010-03-01                               19.023162   \n",
       "2010-04-01                               19.022727   \n",
       "2010-05-01                               19.025522   \n",
       "\n",
       "desc        Private Commercial,Excluding Infrastructure,Other New Work  \\\n",
       "TIME                                                                     \n",
       "2010-01-01                                          18.845701            \n",
       "2010-02-01                                          18.839104            \n",
       "2010-03-01                                          18.847550            \n",
       "2010-04-01                                          18.856859            \n",
       "2010-05-01                                          18.849810            \n",
       "\n",
       "desc        Private Industrial,Excluding Infrastructure,Other New Work  \\\n",
       "TIME                                                                     \n",
       "2010-01-01                                           2.871397            \n",
       "2010-02-01                                           2.875494            \n",
       "2010-03-01                                           2.870608            \n",
       "2010-04-01                                           2.867420            \n",
       "2010-05-01                                           2.874647            \n",
       "\n",
       "desc        Private,Housing,Repair and Maintenance  Private,New Housing  \\\n",
       "TIME                                                                      \n",
       "2010-01-01                               12.884615            14.929825   \n",
       "2010-02-01                               12.883939            14.921090   \n",
       "2010-03-01                               12.871587            14.922711   \n",
       "2010-04-01                               12.881720            14.922711   \n",
       "2010-05-01                               12.887113            14.908046   \n",
       "\n",
       "desc        Public,Excluding Infrastructure,Other New Work  \\\n",
       "TIME                                                         \n",
       "2010-01-01                                        8.190731   \n",
       "2010-02-01                                        8.194662   \n",
       "2010-03-01                                        8.190985   \n",
       "2010-04-01                                        8.192128   \n",
       "2010-05-01                                        8.194631   \n",
       "\n",
       "desc        Public,Housing,Repair and Maintenance  Public,New Housing  \\\n",
       "TIME                                                                    \n",
       "2010-01-01                               6.101861            3.586207   \n",
       "2010-02-01                               6.105727            3.588235   \n",
       "2010-03-01                               6.105508            3.583181   \n",
       "2010-04-01                               6.100386            3.587060   \n",
       "2010-05-01                               6.099815            3.586957   \n",
       "\n",
       "desc        Total Housing  Total,Housing,Repair and Maintenance  \n",
       "TIME                                                             \n",
       "2010-01-01      18.500000                             18.990268  \n",
       "2010-02-01      18.500000                             18.983051  \n",
       "2010-03-01      18.505618                             18.986175  \n",
       "2010-04-01      18.503401                             18.983402  \n",
       "2010-05-01      18.502732                             18.987342  "
      ]
     },
     "execution_count": 21,
     "metadata": {},
     "output_type": "execute_result"
    }
   ],
   "source": [
    "# Prove the index values by dividing one by other\n",
    "k = consvolumeNSA.OBS.unstack(level=0).xs(\"Month\")\n",
    "kI = consindexNSA.OBS.unstack(level=0).xs(\"Month\")\n",
    "(k/kI).head()\n",
    "\n",
    "\n"
   ]
  },
  {
   "cell_type": "code",
   "execution_count": 22,
   "metadata": {},
   "outputs": [
    {
     "data": {
      "text/plain": [
       "843.0"
      ]
     },
     "execution_count": 22,
     "metadata": {},
     "output_type": "execute_result"
    }
   ],
   "source": [
    "# what is seasonal adjustment?  How is it different in year?\n",
    "k = consvalueNSA.OBS.unstack(level=0).xs(\"Year\")\n",
    "kSA = consvalueSA.OBS.unstack(level=0).xs(\"Year\")\n",
    "d = \"Public,New Housing\"\n",
    "s = (kSA-k).dropna()\n",
    "max(max(s.iloc[i])  for i in range(len(s)))\n",
    "\n",
    "#k = consvalueNSA.OBS.unstack(level=0).xs(\"Quarter\")\n",
    "#kSA = consvalueNSA.OBS.unstack(level=0).xs(\"Quarter\")\n",
    "#kSA[d].plot()\n",
    "#k[d].plot()\n",
    "#(k-kSA)[d].plot()\n"
   ]
  },
  {
   "cell_type": "code",
   "execution_count": 23,
   "metadata": {},
   "outputs": [
    {
     "data": {
      "text/plain": [
       "<matplotlib.axes._subplots.AxesSubplot at 0x7fcc2f46d518>"
      ]
     },
     "execution_count": 23,
     "metadata": {},
     "output_type": "execute_result"
    },
    {
     "data": {
      "image/png": "[encoded data removed]",
      "text/plain": [
       "<matplotlib.figure.Figure at 0x7fcc2f4b9f98>"
      ]
     },
     "metadata": {},
     "output_type": "display_data"
    }
   ],
   "source": [
    "# goes back to 1955, though you can't find it in the spreadsheet\n",
    "d = \"All Work\"\n",
    "kV = consvalueNSA.OBS.unstack(level=0).xs(\"Quarter\")\n",
    "kV[d].plot()"
   ]
  },
  {
   "cell_type": "code",
   "execution_count": 25,
   "metadata": {},
   "outputs": [
    {
     "data": {
      "image/png": "[encoded data removed]",
      "text/plain": [
       "<matplotlib.figure.Figure at 0x7f8f58842668>"
      ]
     },
     "metadata": {},
     "output_type": "display_data"
    }
   ],
   "source": [
    "# what is different ratios for the years and months\n",
    "k = consvolumeNSA.OBS.unstack(level=0).xs(\"Year\")\n",
    "kSA = consvolumeSA.OBS.unstack(level=0).xs(\"Year\")\n",
    "kV = consvalueNSA.OBS.unstack(level=0).xs(\"Year\")\n",
    "kVSA = consvalueSA.OBS.unstack(level=0).xs(\"Year\")\n",
    "\n",
    "#(k/kV)[\"All New Work\"].dropna()\n",
    "d = \"All Work\"\n",
    "#kV[d].plot()\n",
    "dn = \"All New Work\"\n",
    "#kV[dn].plot()\n",
    "#(kV[dn]/kV[d]).plot()\n",
    "#k[d].plot()\n",
    "#kSA[d].plot()\n",
    "#kVSA[d].plot()\n",
    "kV.head()\n",
    "\n",
    "#(kV[\"Public,New Housing\"]/kV[\"Total Housing\"]).plot()\n",
    "kV = consvalueNSA.OBS.unstack(level=0).xs(\"Quarter\")\n",
    "kVSA = consvalueSA.OBS.unstack(level=0).xs(\"Quarter\")\n",
    "#kV[\"Public,New Housing\"].plot()\n",
    "#kV[\"Total Housing\"].plot()\n",
    "\n",
    "#(kV[\"Public,New Housing\"]).plot()\n",
    "#(kV[\"Total Housing\"]).plot()\n",
    "\n",
    "#kV = consvalueNSA.OBS.unstack(level=0).xs(\"Month\")\n",
    "#kVSA = consvalueSA.OBS.unstack(level=0).xs(\"Month\")\n",
    "(kVSA[d]/kV[d]).dropna().plot()\n",
    "\n",
    "if False:\n",
    "    d = \"Private,New Housing\"\n",
    "    #kVSA[d].plot()\n",
    "    #kV[d].plot()\n",
    "    \n",
    "    s = kV[d] - kVSA[d]\n",
    "    s.dropna().plot()\n",
    "    (kV[d]*0.1).plot()\n",
    "\n"
   ]
  },
  {
   "cell_type": "code",
   "execution_count": 312,
   "metadata": {
    "collapsed": true
   },
   "outputs": [],
   "source": []
  },
  {
   "cell_type": "code",
   "execution_count": 441,
   "metadata": {},
   "outputs": [
    {
     "data": {
      "text/html": [
       "<div>\n",
       "<table border=\"1\" class=\"dataframe\">\n",
       "  <thead>\n",
       "    <tr style=\"text-align: right;\">\n",
       "      <th></th>\n",
       "      <th>bovis</th>\n",
       "    </tr>\n",
       "    <tr>\n",
       "      <th>TIME</th>\n",
       "      <th></th>\n",
       "    </tr>\n",
       "  </thead>\n",
       "  <tbody>\n",
       "    <tr>\n",
       "      <th>2002-01-01</th>\n",
       "      <td>NaN</td>\n",
       "    </tr>\n",
       "    <tr>\n",
       "      <th>2003-01-01</th>\n",
       "      <td>461.0</td>\n",
       "    </tr>\n",
       "    <tr>\n",
       "      <th>2004-01-01</th>\n",
       "      <td>478.0</td>\n",
       "    </tr>\n",
       "    <tr>\n",
       "      <th>2005-01-01</th>\n",
       "      <td>559.0</td>\n",
       "    </tr>\n",
       "    <tr>\n",
       "      <th>2006-01-01</th>\n",
       "      <td>521.0</td>\n",
       "    </tr>\n",
       "    <tr>\n",
       "      <th>2007-01-01</th>\n",
       "      <td>597.0</td>\n",
       "    </tr>\n",
       "    <tr>\n",
       "      <th>2008-01-01</th>\n",
       "      <td>555.0</td>\n",
       "    </tr>\n",
       "    <tr>\n",
       "      <th>2009-01-01</th>\n",
       "      <td>282.0</td>\n",
       "    </tr>\n",
       "    <tr>\n",
       "      <th>2010-01-01</th>\n",
       "      <td>281.0</td>\n",
       "    </tr>\n",
       "    <tr>\n",
       "      <th>2011-01-01</th>\n",
       "      <td>298.0</td>\n",
       "    </tr>\n",
       "    <tr>\n",
       "      <th>2012-01-01</th>\n",
       "      <td>364.0</td>\n",
       "    </tr>\n",
       "    <tr>\n",
       "      <th>2013-01-01</th>\n",
       "      <td>425.0</td>\n",
       "    </tr>\n",
       "    <tr>\n",
       "      <th>2014-01-01</th>\n",
       "      <td>556.0</td>\n",
       "    </tr>\n",
       "    <tr>\n",
       "      <th>2015-01-01</th>\n",
       "      <td>809.0</td>\n",
       "    </tr>\n",
       "  </tbody>\n",
       "</table>\n",
       "</div>"
      ],
      "text/plain": [
       "            bovis\n",
       "TIME             \n",
       "2002-01-01    NaN\n",
       "2003-01-01  461.0\n",
       "2004-01-01  478.0\n",
       "2005-01-01  559.0\n",
       "2006-01-01  521.0\n",
       "2007-01-01  597.0\n",
       "2008-01-01  555.0\n",
       "2009-01-01  282.0\n",
       "2010-01-01  281.0\n",
       "2011-01-01  298.0\n",
       "2012-01-01  364.0\n",
       "2013-01-01  425.0\n",
       "2014-01-01  556.0\n",
       "2015-01-01  809.0"
      ]
     },
     "execution_count": 441,
     "metadata": {},
     "output_type": "execute_result"
    },
    {
     "data": {
      "image/png": "[encoded data removed]",
      "text/plain": [
       "<matplotlib.figure.Figure at 0x7f6a32ede6d8>"
      ]
     },
     "metadata": {},
     "output_type": "display_data"
    }
   ],
   "source": [
    "# Bovis Homes Group turnover per year copied from annual reports to see if it follows the same pattern \n",
    "# as the house building surveys\n",
    "# (Could also cross-check with the DfT roadbuilding budget re infrastructure)\n",
    "\n",
    "# http://www.bovishomesgroup.co.uk/investor-centre/reports-and-presentations/reports/view-year-2011/\n",
    "bh = \"\"\"2015  946\n",
    "2014  809\n",
    "2013  556\n",
    "2012  425\n",
    "2011  364\n",
    "2010  298\n",
    "2009  281\n",
    "2008  282\n",
    "2007  555\n",
    "2006  597\n",
    "2005  521\n",
    "2004  559\n",
    "2003  478\n",
    "2002  461\"\"\".split()\n",
    "s = [{ \"TIME\":y, \"bovis\":to } for y, to in zip(bh[::2], map(float, bh[1::2]))]\n",
    "b = pd.DataFrame.from_dict(list(reversed(s)))\n",
    "b.TIME = pd.to_datetime(b.TIME)\n",
    "b.set_index(\"TIME\", inplace=True)\n",
    "kV = consvalueNSA.OBS.unstack(level=0).xs(\"Year\")\n",
    "#kV[\"Private,New Housing\"].loc[pd.Timestamp(\"2002\"):].plot()\n",
    "#b.plot()\n",
    "\n",
    "s = kV[\"Private,New Housing\"].loc[pd.Timestamp(\"2001\"):]/b.bovis\n",
    "s.plot()\n",
    "s = kV[\"Private,New Housing\"].loc[pd.Timestamp(\"2001\"):]/b.bovis.shift()\n",
    "s.plot()\n"
   ]
  },
  {
   "cell_type": "code",
   "execution_count": 310,
   "metadata": {
    "collapsed": true
   },
   "outputs": [],
   "source": [
    "\n",
    "\n",
    "# Everything you see is in these tables (except cars and rolling stock)\n",
    "# What we miss is the rate of destruction\n",
    "\n",
    "# Move our models up to a greater level of sophistication so \n",
    "# it can be fed into predictive models and set policy.\n",
    "\n"
   ]
  },
  {
   "cell_type": "code",
   "execution_count": 328,
   "metadata": {},
   "outputs": [
    {
     "name": "stdout",
     "output_type": "stream",
     "text": [
      "tablepart 'Table 4' written #injblock1008\n"
     ]
    },
    {
     "data": {
      "text/html": [
       "Written to file: <a href='preview.html' target='_blank'>preview.html</a><br>"
      ],
      "text/plain": [
       "/home/goatchurch/sensiblecode/bau_OCI/preview.html"
      ]
     },
     "metadata": {},
     "output_type": "display_data"
    }
   ],
   "source": []
  },
  {
   "cell_type": "code",
   "execution_count": 459,
   "metadata": {},
   "outputs": [
    {
     "data": {
      "text/plain": [
       "<matplotlib.axes._subplots.AxesSubplot at 0x7f6a32f50e80>"
      ]
     },
     "execution_count": 459,
     "metadata": {},
     "output_type": "execute_result"
    },
    {
     "data": {
      "image/png": "[encoded data removed]",
      "text/plain": [
       "<matplotlib.figure.Figure at 0x7f6a32e1b470>"
      ]
     },
     "metadata": {},
     "output_type": "display_data"
    }
   ],
   "source": [
    "d = \"Infrastructure,Other New Work\"\n",
    "kV = consvalueNSA.OBS.unstack(level=0).xs(\"Month\")\n",
    "kVSA = consvalueSA.OBS.unstack(level=0).xs(\"Month\")\n",
    "(kVSA[d]/kV[d]).plot()\n",
    "\n"
   ]
  },
  {
   "cell_type": "code",
   "execution_count": null,
   "metadata": {
    "collapsed": true
   },
   "outputs": [],
   "source": []
  }
 ],
 "metadata": {
  "kernelspec": {
   "display_name": "Python 3",
   "language": "python",
   "name": "python3"
  },
  "language_info": {
   "codemirror_mode": {
    "name": "ipython",
    "version": 3
   },
   "file_extension": ".py",
   "mimetype": "text/x-python",
   "name": "python",
   "nbconvert_exporter": "python",
   "pygments_lexer": "ipython3",
   "version": "3.6.1"
  }
 },
 "nbformat": 4,
 "nbformat_minor": 1
}
